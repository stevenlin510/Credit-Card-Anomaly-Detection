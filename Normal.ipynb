{
 "cells": [
  {
   "cell_type": "code",
   "execution_count": 1,
   "metadata": {},
   "outputs": [
    {
     "data": {
      "text/html": [
       "<div>\n",
       "<style scoped>\n",
       "    .dataframe tbody tr th:only-of-type {\n",
       "        vertical-align: middle;\n",
       "    }\n",
       "\n",
       "    .dataframe tbody tr th {\n",
       "        vertical-align: top;\n",
       "    }\n",
       "\n",
       "    .dataframe thead th {\n",
       "        text-align: right;\n",
       "    }\n",
       "</style>\n",
       "<table border=\"1\" class=\"dataframe\">\n",
       "  <thead>\n",
       "    <tr style=\"text-align: right;\">\n",
       "      <th></th>\n",
       "      <th>Time</th>\n",
       "      <th>V1</th>\n",
       "      <th>V2</th>\n",
       "      <th>V3</th>\n",
       "      <th>V4</th>\n",
       "      <th>V5</th>\n",
       "      <th>V6</th>\n",
       "      <th>V7</th>\n",
       "      <th>V8</th>\n",
       "      <th>V9</th>\n",
       "      <th>...</th>\n",
       "      <th>V21</th>\n",
       "      <th>V22</th>\n",
       "      <th>V23</th>\n",
       "      <th>V24</th>\n",
       "      <th>V25</th>\n",
       "      <th>V26</th>\n",
       "      <th>V27</th>\n",
       "      <th>V28</th>\n",
       "      <th>Amount</th>\n",
       "      <th>Class</th>\n",
       "    </tr>\n",
       "  </thead>\n",
       "  <tbody>\n",
       "    <tr>\n",
       "      <th>0</th>\n",
       "      <td>0.0</td>\n",
       "      <td>-1.359807</td>\n",
       "      <td>-0.072781</td>\n",
       "      <td>2.536347</td>\n",
       "      <td>1.378155</td>\n",
       "      <td>-0.338321</td>\n",
       "      <td>0.462388</td>\n",
       "      <td>0.239599</td>\n",
       "      <td>0.098698</td>\n",
       "      <td>0.363787</td>\n",
       "      <td>...</td>\n",
       "      <td>-0.018307</td>\n",
       "      <td>0.277838</td>\n",
       "      <td>-0.110474</td>\n",
       "      <td>0.066928</td>\n",
       "      <td>0.128539</td>\n",
       "      <td>-0.189115</td>\n",
       "      <td>0.133558</td>\n",
       "      <td>-0.021053</td>\n",
       "      <td>149.62</td>\n",
       "      <td>0</td>\n",
       "    </tr>\n",
       "    <tr>\n",
       "      <th>1</th>\n",
       "      <td>0.0</td>\n",
       "      <td>1.191857</td>\n",
       "      <td>0.266151</td>\n",
       "      <td>0.166480</td>\n",
       "      <td>0.448154</td>\n",
       "      <td>0.060018</td>\n",
       "      <td>-0.082361</td>\n",
       "      <td>-0.078803</td>\n",
       "      <td>0.085102</td>\n",
       "      <td>-0.255425</td>\n",
       "      <td>...</td>\n",
       "      <td>-0.225775</td>\n",
       "      <td>-0.638672</td>\n",
       "      <td>0.101288</td>\n",
       "      <td>-0.339846</td>\n",
       "      <td>0.167170</td>\n",
       "      <td>0.125895</td>\n",
       "      <td>-0.008983</td>\n",
       "      <td>0.014724</td>\n",
       "      <td>2.69</td>\n",
       "      <td>0</td>\n",
       "    </tr>\n",
       "    <tr>\n",
       "      <th>2</th>\n",
       "      <td>1.0</td>\n",
       "      <td>-1.358354</td>\n",
       "      <td>-1.340163</td>\n",
       "      <td>1.773209</td>\n",
       "      <td>0.379780</td>\n",
       "      <td>-0.503198</td>\n",
       "      <td>1.800499</td>\n",
       "      <td>0.791461</td>\n",
       "      <td>0.247676</td>\n",
       "      <td>-1.514654</td>\n",
       "      <td>...</td>\n",
       "      <td>0.247998</td>\n",
       "      <td>0.771679</td>\n",
       "      <td>0.909412</td>\n",
       "      <td>-0.689281</td>\n",
       "      <td>-0.327642</td>\n",
       "      <td>-0.139097</td>\n",
       "      <td>-0.055353</td>\n",
       "      <td>-0.059752</td>\n",
       "      <td>378.66</td>\n",
       "      <td>0</td>\n",
       "    </tr>\n",
       "    <tr>\n",
       "      <th>3</th>\n",
       "      <td>1.0</td>\n",
       "      <td>-0.966272</td>\n",
       "      <td>-0.185226</td>\n",
       "      <td>1.792993</td>\n",
       "      <td>-0.863291</td>\n",
       "      <td>-0.010309</td>\n",
       "      <td>1.247203</td>\n",
       "      <td>0.237609</td>\n",
       "      <td>0.377436</td>\n",
       "      <td>-1.387024</td>\n",
       "      <td>...</td>\n",
       "      <td>-0.108300</td>\n",
       "      <td>0.005274</td>\n",
       "      <td>-0.190321</td>\n",
       "      <td>-1.175575</td>\n",
       "      <td>0.647376</td>\n",
       "      <td>-0.221929</td>\n",
       "      <td>0.062723</td>\n",
       "      <td>0.061458</td>\n",
       "      <td>123.50</td>\n",
       "      <td>0</td>\n",
       "    </tr>\n",
       "    <tr>\n",
       "      <th>4</th>\n",
       "      <td>2.0</td>\n",
       "      <td>-1.158233</td>\n",
       "      <td>0.877737</td>\n",
       "      <td>1.548718</td>\n",
       "      <td>0.403034</td>\n",
       "      <td>-0.407193</td>\n",
       "      <td>0.095921</td>\n",
       "      <td>0.592941</td>\n",
       "      <td>-0.270533</td>\n",
       "      <td>0.817739</td>\n",
       "      <td>...</td>\n",
       "      <td>-0.009431</td>\n",
       "      <td>0.798278</td>\n",
       "      <td>-0.137458</td>\n",
       "      <td>0.141267</td>\n",
       "      <td>-0.206010</td>\n",
       "      <td>0.502292</td>\n",
       "      <td>0.219422</td>\n",
       "      <td>0.215153</td>\n",
       "      <td>69.99</td>\n",
       "      <td>0</td>\n",
       "    </tr>\n",
       "  </tbody>\n",
       "</table>\n",
       "<p>5 rows × 31 columns</p>\n",
       "</div>"
      ],
      "text/plain": [
       "   Time        V1        V2        V3        V4        V5        V6        V7  \\\n",
       "0   0.0 -1.359807 -0.072781  2.536347  1.378155 -0.338321  0.462388  0.239599   \n",
       "1   0.0  1.191857  0.266151  0.166480  0.448154  0.060018 -0.082361 -0.078803   \n",
       "2   1.0 -1.358354 -1.340163  1.773209  0.379780 -0.503198  1.800499  0.791461   \n",
       "3   1.0 -0.966272 -0.185226  1.792993 -0.863291 -0.010309  1.247203  0.237609   \n",
       "4   2.0 -1.158233  0.877737  1.548718  0.403034 -0.407193  0.095921  0.592941   \n",
       "\n",
       "         V8        V9  ...       V21       V22       V23       V24       V25  \\\n",
       "0  0.098698  0.363787  ... -0.018307  0.277838 -0.110474  0.066928  0.128539   \n",
       "1  0.085102 -0.255425  ... -0.225775 -0.638672  0.101288 -0.339846  0.167170   \n",
       "2  0.247676 -1.514654  ...  0.247998  0.771679  0.909412 -0.689281 -0.327642   \n",
       "3  0.377436 -1.387024  ... -0.108300  0.005274 -0.190321 -1.175575  0.647376   \n",
       "4 -0.270533  0.817739  ... -0.009431  0.798278 -0.137458  0.141267 -0.206010   \n",
       "\n",
       "        V26       V27       V28  Amount  Class  \n",
       "0 -0.189115  0.133558 -0.021053  149.62      0  \n",
       "1  0.125895 -0.008983  0.014724    2.69      0  \n",
       "2 -0.139097 -0.055353 -0.059752  378.66      0  \n",
       "3 -0.221929  0.062723  0.061458  123.50      0  \n",
       "4  0.502292  0.219422  0.215153   69.99      0  \n",
       "\n",
       "[5 rows x 31 columns]"
      ]
     },
     "execution_count": 1,
     "metadata": {},
     "output_type": "execute_result"
    }
   ],
   "source": [
    "import numpy as np # linear algebra\n",
    "import pandas as pd # data processing, CSV file I/O (e.g. pd.read_csv)\n",
    "import tensorflow as tf\n",
    "import matplotlib.pyplot as plt\n",
    "import seaborn as sns\n",
    "from sklearn.manifold import TSNE\n",
    "from sklearn.decomposition import PCA, TruncatedSVD\n",
    "import matplotlib.patches as mpatches\n",
    "import time\n",
    "\n",
    "# Classifier Libraries\n",
    "from sklearn.linear_model import LogisticRegression\n",
    "from sklearn.svm import SVC\n",
    "from sklearn.neighbors import KNeighborsClassifier\n",
    "from sklearn.tree import DecisionTreeClassifier\n",
    "from sklearn.ensemble import RandomForestClassifier\n",
    "import collections\n",
    "\n",
    "\n",
    "# Other Libraries\n",
    "from sklearn import preprocessing \n",
    "from sklearn.model_selection import train_test_split\n",
    "from sklearn.pipeline import make_pipeline\n",
    "from imblearn.pipeline import make_pipeline as imbalanced_make_pipeline\n",
    "from imblearn.over_sampling import SMOTE\n",
    "from imblearn.under_sampling import NearMiss\n",
    "from imblearn.metrics import classification_report_imbalanced\n",
    "from sklearn.metrics import precision_score, recall_score, f1_score, roc_auc_score, accuracy_score, classification_report\n",
    "from collections import Counter\n",
    "from sklearn.model_selection import KFold, StratifiedKFold\n",
    "import warnings\n",
    "\n",
    "from tensorflow.keras.layers import Input, Dense\n",
    "from tensorflow.keras.models import Model, Sequential\n",
    "from tensorflow.keras import regularizers\n",
    "\n",
    "warnings.filterwarnings(\"ignore\")\n",
    "\n",
    "\n",
    "df = pd.read_csv('./creditcard.csv')\n",
    "df.head()"
   ]
  },
  {
   "cell_type": "code",
   "execution_count": 2,
   "metadata": {},
   "outputs": [
    {
     "name": "stdout",
     "output_type": "stream",
     "text": [
      "No Frauds 99.83 % of the dataset\n",
      "Frauds 0.17 % of the dataset\n",
      "----------------------------------------------------------------------------------------------------\n",
      "Label Distributions: \n",
      "\n",
      "Normal         Abnormal\n",
      "[0.99827075 0.00172925]\n",
      "[0.99827955 0.00172045]\n"
     ]
    }
   ],
   "source": [
    "from sklearn.model_selection import train_test_split\n",
    "from sklearn.model_selection import StratifiedShuffleSplit\n",
    "\n",
    "print('No Frauds', round(df['Class'].value_counts()[0]/len(df) * 100,2), '% of the dataset')\n",
    "print('Frauds', round(df['Class'].value_counts()[1]/len(df) * 100,2), '% of the dataset')\n",
    "\n",
    "X = df.drop('Class', axis=1)\n",
    "y = df['Class']\n",
    "\n",
    "# sss = StratifiedKFold(n_splits=2, random_state=None, shuffle=False)\n",
    "\n",
    "# for train_index, test_index in sss.split(X, y):\n",
    "#     print(\"Train:\", train_index, \"Test:\", test_index)\n",
    "#     original_Xtrain, original_Xtest = X.iloc[train_index], X.iloc[test_index]\n",
    "#     original_ytrain, original_ytest = y.iloc[train_index], y.iloc[test_index]\n",
    "\n",
    "# We already have X_train and y_train for undersample data thats why I am using original to distinguish and to not overwrite these variables.\n",
    "original_Xtrain, original_Xtest, original_ytrain, original_ytest = train_test_split(X, y, test_size=0.2, random_state=42)\n",
    "\n",
    "# Check the Distribution of the labels\n",
    "\n",
    "\n",
    "# Turn into an array\n",
    "Xtrain = original_Xtrain.values\n",
    "Xtest = original_Xtest.values\n",
    "ytrain = original_ytrain.values\n",
    "ytest = original_ytest.values\n",
    "\n",
    "# See if both the train and test label distribution are similarly distributed\n",
    "train_unique_label, train_counts_label = np.unique(original_ytrain, return_counts=True)\n",
    "test_unique_label, test_counts_label = np.unique(original_ytest, return_counts=True)\n",
    "print('-' * 100)\n",
    "\n",
    "print('Label Distributions: \\n')\n",
    "print('Normal         Abnormal')\n",
    "print(train_counts_label/ len(original_ytrain))\n",
    "print(test_counts_label/ len(original_ytest))"
   ]
  },
  {
   "cell_type": "code",
   "execution_count": 3,
   "metadata": {},
   "outputs": [],
   "source": [
    "input_layer = Input(shape=(X.values.shape[1],))\n",
    "\n",
    "## encoding part\n",
    "encoded = Dense(100, activation='tanh', activity_regularizer=regularizers.l1(10e-5))(input_layer)\n",
    "encoded = Dense(50, activation='relu')(encoded)\n",
    "\n",
    "## decoding part\n",
    "decoded = Dense(50, activation='tanh')(encoded)\n",
    "decoded = Dense(100, activation='tanh')(decoded)\n",
    "\n",
    "## output layer\n",
    "output_layer = Dense(X.shape[1], activation='relu')(decoded)"
   ]
  },
  {
   "cell_type": "code",
   "execution_count": 4,
   "metadata": {},
   "outputs": [
    {
     "name": "stdout",
     "output_type": "stream",
     "text": [
      "Model: \"model\"\n",
      "_________________________________________________________________\n",
      "Layer (type)                 Output Shape              Param #   \n",
      "=================================================================\n",
      "input_1 (InputLayer)         [(None, 30)]              0         \n",
      "_________________________________________________________________\n",
      "dense (Dense)                (None, 100)               3100      \n",
      "_________________________________________________________________\n",
      "dense_1 (Dense)              (None, 50)                5050      \n",
      "_________________________________________________________________\n",
      "dense_2 (Dense)              (None, 50)                2550      \n",
      "_________________________________________________________________\n",
      "dense_3 (Dense)              (None, 100)               5100      \n",
      "_________________________________________________________________\n",
      "dense_4 (Dense)              (None, 30)                3030      \n",
      "=================================================================\n",
      "Total params: 18,830\n",
      "Trainable params: 18,830\n",
      "Non-trainable params: 0\n",
      "_________________________________________________________________\n"
     ]
    }
   ],
   "source": [
    "autoencoder = Model(input_layer, output_layer)\n",
    "autoencoder.summary()"
   ]
  },
  {
   "cell_type": "code",
   "execution_count": 5,
   "metadata": {},
   "outputs": [],
   "source": [
    "autoencoder.compile(optimizer=\"adam\", loss=\"mse\",metrics=['accuracy'])"
   ]
  },
  {
   "cell_type": "code",
   "execution_count": 6,
   "metadata": {},
   "outputs": [],
   "source": [
    "x_scale = preprocessing.MinMaxScaler().fit_transform(original_Xtrain)\n",
    "auto_x_norm , auto_x_fraud = x_scale[original_ytrain== 0], x_scale[original_ytrain ==1]"
   ]
  },
  {
   "cell_type": "code",
   "execution_count": 7,
   "metadata": {},
   "outputs": [
    {
     "data": {
      "text/plain": [
       "(227451, 30)"
      ]
     },
     "execution_count": 7,
     "metadata": {},
     "output_type": "execute_result"
    }
   ],
   "source": [
    "auto_x_norm.shape"
   ]
  },
  {
   "cell_type": "code",
   "execution_count": 8,
   "metadata": {},
   "outputs": [
    {
     "name": "stdout",
     "output_type": "stream",
     "text": [
      "Epoch 1/50\n",
      "711/711 [==============================] - 2s 2ms/step - loss: 0.0709 - accuracy: 0.6303 - val_loss: 0.0357 - val_accuracy: 0.8278\n",
      "Epoch 2/50\n",
      "711/711 [==============================] - 1s 1ms/step - loss: 0.0355 - accuracy: 0.8635 - val_loss: 0.0353 - val_accuracy: 0.9526\n",
      "Epoch 3/50\n",
      "711/711 [==============================] - 1s 1ms/step - loss: 0.0353 - accuracy: 0.9582 - val_loss: 0.0353 - val_accuracy: 0.9670\n",
      "Epoch 4/50\n",
      "711/711 [==============================] - 1s 1ms/step - loss: 0.0350 - accuracy: 0.9654 - val_loss: 0.0314 - val_accuracy: 0.9116\n",
      "Epoch 5/50\n",
      "711/711 [==============================] - 1s 1ms/step - loss: 0.0314 - accuracy: 0.9378 - val_loss: 0.0314 - val_accuracy: 0.9775\n",
      "Epoch 6/50\n",
      "711/711 [==============================] - 1s 1ms/step - loss: 0.0314 - accuracy: 0.9752 - val_loss: 0.0314 - val_accuracy: 0.9438\n",
      "Epoch 7/50\n",
      "711/711 [==============================] - 1s 1ms/step - loss: 0.0314 - accuracy: 0.9761 - val_loss: 0.0313 - val_accuracy: 0.9868\n",
      "Epoch 8/50\n",
      "711/711 [==============================] - 1s 1ms/step - loss: 0.0313 - accuracy: 0.9792 - val_loss: 0.0313 - val_accuracy: 0.9768\n",
      "Epoch 9/50\n",
      "711/711 [==============================] - 1s 1ms/step - loss: 0.0313 - accuracy: 0.9775 - val_loss: 0.0313 - val_accuracy: 0.9896\n",
      "Epoch 10/50\n",
      "711/711 [==============================] - 1s 1ms/step - loss: 0.0313 - accuracy: 0.9764 - val_loss: 0.0313 - val_accuracy: 0.9861\n",
      "Epoch 11/50\n",
      "711/711 [==============================] - 1s 1ms/step - loss: 0.0313 - accuracy: 0.9780 - val_loss: 0.0313 - val_accuracy: 0.9741\n",
      "Epoch 12/50\n",
      "711/711 [==============================] - 1s 1ms/step - loss: 0.0313 - accuracy: 0.9776 - val_loss: 0.0313 - val_accuracy: 0.9838\n",
      "Epoch 13/50\n",
      "711/711 [==============================] - 1s 1ms/step - loss: 0.0313 - accuracy: 0.9777 - val_loss: 0.0313 - val_accuracy: 0.9589\n",
      "Epoch 14/50\n",
      "711/711 [==============================] - 1s 1ms/step - loss: 0.0313 - accuracy: 0.9758 - val_loss: 0.0313 - val_accuracy: 0.9808\n",
      "Epoch 15/50\n",
      "711/711 [==============================] - 1s 1ms/step - loss: 0.0313 - accuracy: 0.9782 - val_loss: 0.0313 - val_accuracy: 0.9824\n",
      "Epoch 16/50\n",
      "711/711 [==============================] - 1s 1ms/step - loss: 0.0313 - accuracy: 0.9790 - val_loss: 0.0313 - val_accuracy: 0.9618\n",
      "Epoch 17/50\n",
      "711/711 [==============================] - 1s 2ms/step - loss: 0.0313 - accuracy: 0.9764 - val_loss: 0.0313 - val_accuracy: 0.9903\n",
      "Epoch 18/50\n",
      "711/711 [==============================] - 1s 1ms/step - loss: 0.0312 - accuracy: 0.9807 - val_loss: 0.0313 - val_accuracy: 0.9734\n",
      "Epoch 19/50\n",
      "711/711 [==============================] - 1s 1ms/step - loss: 0.0313 - accuracy: 0.9740 - val_loss: 0.0313 - val_accuracy: 0.9527\n",
      "Epoch 20/50\n",
      "711/711 [==============================] - 1s 1ms/step - loss: 0.0312 - accuracy: 0.9751 - val_loss: 0.0312 - val_accuracy: 0.9845\n",
      "Epoch 21/50\n",
      "711/711 [==============================] - 1s 1ms/step - loss: 0.0312 - accuracy: 0.9799 - val_loss: 0.0313 - val_accuracy: 0.9488\n",
      "Epoch 22/50\n",
      "711/711 [==============================] - 1s 1ms/step - loss: 0.0312 - accuracy: 0.9744 - val_loss: 0.0312 - val_accuracy: 0.9877\n",
      "Epoch 23/50\n",
      "711/711 [==============================] - 1s 1ms/step - loss: 0.0312 - accuracy: 0.9750 - val_loss: 0.0322 - val_accuracy: 0.8700\n",
      "Epoch 24/50\n",
      "711/711 [==============================] - 1s 1ms/step - loss: 0.0313 - accuracy: 0.9524 - val_loss: 0.0312 - val_accuracy: 0.9929\n",
      "Epoch 25/50\n",
      "711/711 [==============================] - 1s 1ms/step - loss: 0.0312 - accuracy: 0.9863 - val_loss: 0.0312 - val_accuracy: 0.9950\n",
      "Epoch 26/50\n",
      "711/711 [==============================] - 1s 1ms/step - loss: 0.0312 - accuracy: 0.9801 - val_loss: 0.0312 - val_accuracy: 0.9669\n",
      "Epoch 27/50\n",
      "711/711 [==============================] - 1s 2ms/step - loss: 0.0312 - accuracy: 0.9724 - val_loss: 0.0312 - val_accuracy: 0.9373\n",
      "Epoch 28/50\n",
      "711/711 [==============================] - 1s 1ms/step - loss: 0.0312 - accuracy: 0.9710 - val_loss: 0.0313 - val_accuracy: 0.9565\n",
      "Epoch 29/50\n",
      "711/711 [==============================] - 1s 1ms/step - loss: 0.0312 - accuracy: 0.9686 - val_loss: 0.0312 - val_accuracy: 0.9830\n",
      "Epoch 30/50\n",
      "711/711 [==============================] - 1s 1ms/step - loss: 0.0312 - accuracy: 0.9686 - val_loss: 0.0312 - val_accuracy: 0.9740\n",
      "Epoch 31/50\n",
      "711/711 [==============================] - 1s 1ms/step - loss: 0.0312 - accuracy: 0.9723 - val_loss: 0.0312 - val_accuracy: 0.9868\n",
      "Epoch 32/50\n",
      "711/711 [==============================] - 1s 1ms/step - loss: 0.0312 - accuracy: 0.9675 - val_loss: 0.0312 - val_accuracy: 0.9675\n",
      "Epoch 33/50\n",
      "711/711 [==============================] - 1s 1ms/step - loss: 0.0312 - accuracy: 0.9698 - val_loss: 0.0312 - val_accuracy: 0.9861\n",
      "Epoch 34/50\n",
      "711/711 [==============================] - 1s 1ms/step - loss: 0.0312 - accuracy: 0.9707 - val_loss: 0.0312 - val_accuracy: 0.9760\n",
      "Epoch 35/50\n",
      "711/711 [==============================] - 1s 1ms/step - loss: 0.0312 - accuracy: 0.9698 - val_loss: 0.0312 - val_accuracy: 0.9686\n",
      "Epoch 36/50\n",
      "711/711 [==============================] - 1s 1ms/step - loss: 0.0312 - accuracy: 0.9705 - val_loss: 0.0313 - val_accuracy: 0.9592\n",
      "Epoch 37/50\n",
      "711/711 [==============================] - 1s 1ms/step - loss: 0.0312 - accuracy: 0.9711 - val_loss: 0.0312 - val_accuracy: 0.9926\n",
      "Epoch 38/50\n",
      "711/711 [==============================] - 1s 1ms/step - loss: 0.0312 - accuracy: 0.9723 - val_loss: 0.0312 - val_accuracy: 0.9643\n",
      "Epoch 39/50\n",
      "711/711 [==============================] - 1s 2ms/step - loss: 0.0312 - accuracy: 0.9709 - val_loss: 0.0312 - val_accuracy: 0.9572\n",
      "Epoch 40/50\n",
      "711/711 [==============================] - 1s 1ms/step - loss: 0.0312 - accuracy: 0.9730 - val_loss: 0.0312 - val_accuracy: 0.9863\n",
      "Epoch 41/50\n",
      "711/711 [==============================] - 1s 1ms/step - loss: 0.0312 - accuracy: 0.9724 - val_loss: 0.0312 - val_accuracy: 0.9745\n",
      "Epoch 42/50\n",
      "711/711 [==============================] - 1s 1ms/step - loss: 0.0312 - accuracy: 0.9713 - val_loss: 0.0312 - val_accuracy: 0.9361\n",
      "Epoch 43/50\n",
      "711/711 [==============================] - 1s 1ms/step - loss: 0.0312 - accuracy: 0.9701 - val_loss: 0.0312 - val_accuracy: 0.9565\n",
      "Epoch 44/50\n",
      "711/711 [==============================] - 1s 1ms/step - loss: 0.0312 - accuracy: 0.9715 - val_loss: 0.0312 - val_accuracy: 0.9857\n",
      "Epoch 45/50\n",
      "711/711 [==============================] - 1s 1ms/step - loss: 0.0312 - accuracy: 0.9759 - val_loss: 0.0312 - val_accuracy: 0.9808\n",
      "Epoch 46/50\n",
      "711/711 [==============================] - 1s 1ms/step - loss: 0.0312 - accuracy: 0.9721 - val_loss: 0.0312 - val_accuracy: 0.9776\n",
      "Epoch 47/50\n",
      "711/711 [==============================] - 1s 1ms/step - loss: 0.0312 - accuracy: 0.9715 - val_loss: 0.0312 - val_accuracy: 0.9605\n",
      "Epoch 48/50\n",
      "711/711 [==============================] - 1s 1ms/step - loss: 0.0272 - accuracy: 0.9475 - val_loss: 1.1147e-04 - val_accuracy: 0.9074\n",
      "Epoch 49/50\n",
      "711/711 [==============================] - 1s 1ms/step - loss: 8.1000e-05 - accuracy: 0.9322 - val_loss: 5.5814e-05 - val_accuracy: 0.9692\n",
      "Epoch 50/50\n",
      "711/711 [==============================] - 1s 1ms/step - loss: 5.3770e-05 - accuracy: 0.9747 - val_loss: 5.8202e-05 - val_accuracy: 0.9767\n"
     ]
    }
   ],
   "source": [
    "auto_history = autoencoder.fit(auto_x_norm, auto_x_norm, batch_size=256, epochs=50, shuffle=True, validation_split=0.2,verbose=1).history"
   ]
  },
  {
   "cell_type": "code",
   "execution_count": 9,
   "metadata": {},
   "outputs": [
    {
     "data": {
      "text/plain": [
       "<matplotlib.legend.Legend at 0x165619f7048>"
      ]
     },
     "execution_count": 9,
     "metadata": {},
     "output_type": "execute_result"
    },
    {
     "data": {
      "image/png": "[encoded data removed]",
      "text/plain": [
       "<Figure size 432x288 with 1 Axes>"
      ]
     },
     "metadata": {
      "needs_background": "light"
     },
     "output_type": "display_data"
    }
   ],
   "source": [
    "plt.plot(auto_history['loss'])\n",
    "plt.plot(auto_history['val_loss'])\n",
    "plt.title('Model loss')\n",
    "plt.ylabel('loss')\n",
    "plt.xlabel('epoch')\n",
    "plt.legend(['train','val'])"
   ]
  },
  {
   "cell_type": "code",
   "execution_count": 10,
   "metadata": {},
   "outputs": [
    {
     "data": {
      "text/plain": [
       "<matplotlib.legend.Legend at 0x16567b74688>"
      ]
     },
     "execution_count": 10,
     "metadata": {},
     "output_type": "execute_result"
    },
    {
     "data": {
      "image/png": "[encoded data removed]",
      "text/plain": [
       "<Figure size 432x288 with 1 Axes>"
      ]
     },
     "metadata": {
      "needs_background": "light"
     },
     "output_type": "display_data"
    }
   ],
   "source": [
    "plt.plot(auto_history['accuracy'])\n",
    "plt.plot(auto_history['val_accuracy'])\n",
    "plt.title('Model Accuracy')\n",
    "plt.ylabel('Accuracy')\n",
    "plt.xlabel('epoch')\n",
    "plt.legend(['train','val'])"
   ]
  },
  {
   "cell_type": "code",
   "execution_count": 11,
   "metadata": {},
   "outputs": [],
   "source": [
    "def tsne_plot(x1, y1, name=\"graph.png\"):\n",
    "    tsne = TSNE(n_components=2, random_state=0)\n",
    "    X_t = tsne.fit_transform(x1)\n",
    "\n",
    "    plt.figure(figsize=(12, 8))\n",
    "\n",
    "    plt.scatter(X_t[np.where(y1 == 0), 0], X_t[np.where(y1 == 0), 1], marker='o', color='g', linewidth=1, alpha=0.8, label='Non Fraud')\n",
    "    plt.scatter(X_t[np.where(y1 == 1), 0], X_t[np.where(y1 == 1), 1], marker='o', color='r', linewidth=1, alpha=0.8, label='Fraud')\n",
    "\n",
    "    plt.legend(loc='best')\n",
    "    plt.show()"
   ]
  },
  {
   "cell_type": "code",
   "execution_count": null,
   "metadata": {},
   "outputs": [],
   "source": []
  },
  {
   "cell_type": "code",
   "execution_count": 12,
   "metadata": {},
   "outputs": [
    {
     "data": {
      "text/plain": [
       "array([[0.4137431 , 0.5255004 , 0.9517639 , ..., 0.41318703, 0.36794305,\n",
       "        0.33085978],\n",
       "       [0.24234208, 0.79450804, 0.490156  , ..., 0.3019799 , 0.30902848,\n",
       "        0.14655116],\n",
       "       [0.18069854, 0.79778206, 0.5319645 , ..., 0.3039441 , 0.29797113,\n",
       "        0.07784523],\n",
       "       ...,\n",
       "       [0.7671333 , 0.7870159 , 0.50622874, ..., 0.3310328 , 0.31825158,\n",
       "        0.08207313],\n",
       "       [0.2911954 , 0.76481104, 0.5094752 , ..., 0.32157668, 0.29470453,\n",
       "        0.11953075],\n",
       "       [0.25614384, 0.71232706, 0.4930327 , ..., 0.29860598, 0.27606094,\n",
       "        0.16617835]], dtype=float32)"
      ]
     },
     "execution_count": 12,
     "metadata": {},
     "output_type": "execute_result"
    }
   ],
   "source": [
    "from sklearn.metrics import recall_score, precision_score, f1_score, accuracy_score,confusion_matrix,classification_report\n",
    "\n",
    "Xtest_scale = preprocessing.MinMaxScaler().fit_transform(original_Xtest)\n",
    "auto_pred = autoencoder.predict(Xtest_scale)\n",
    "auto_pred"
   ]
  },
  {
   "cell_type": "code",
   "execution_count": 84,
   "metadata": {},
   "outputs": [
    {
     "name": "stdout",
     "output_type": "stream",
     "text": [
      "Threshold:  0.01592922198219624\n"
     ]
    }
   ],
   "source": [
    "mse = np.mean(np.power(Xtest_scale - auto_pred,2),axis=1)\n",
    "print('Threshold: ',np.quantile(mse,0.6))\n",
    "threshold =np.quantile(mse,0.6)"
   ]
  },
  {
   "cell_type": "code",
   "execution_count": 85,
   "metadata": {},
   "outputs": [
    {
     "data": {
      "text/html": [
       "<div>\n",
       "<style scoped>\n",
       "    .dataframe tbody tr th:only-of-type {\n",
       "        vertical-align: middle;\n",
       "    }\n",
       "\n",
       "    .dataframe tbody tr th {\n",
       "        vertical-align: top;\n",
       "    }\n",
       "\n",
       "    .dataframe thead th {\n",
       "        text-align: right;\n",
       "    }\n",
       "</style>\n",
       "<table border=\"1\" class=\"dataframe\">\n",
       "  <thead>\n",
       "    <tr style=\"text-align: right;\">\n",
       "      <th></th>\n",
       "      <th>Time</th>\n",
       "      <th>V1</th>\n",
       "      <th>V2</th>\n",
       "      <th>V3</th>\n",
       "      <th>V4</th>\n",
       "      <th>V5</th>\n",
       "      <th>V6</th>\n",
       "      <th>V7</th>\n",
       "      <th>V8</th>\n",
       "      <th>V9</th>\n",
       "      <th>...</th>\n",
       "      <th>V23</th>\n",
       "      <th>V24</th>\n",
       "      <th>V25</th>\n",
       "      <th>V26</th>\n",
       "      <th>V27</th>\n",
       "      <th>V28</th>\n",
       "      <th>Amount</th>\n",
       "      <th>MSE</th>\n",
       "      <th>Mse_outlier</th>\n",
       "      <th>Class</th>\n",
       "    </tr>\n",
       "  </thead>\n",
       "  <tbody>\n",
       "    <tr>\n",
       "      <th>43428</th>\n",
       "      <td>41505.0</td>\n",
       "      <td>-16.526507</td>\n",
       "      <td>8.584972</td>\n",
       "      <td>-18.649853</td>\n",
       "      <td>9.505594</td>\n",
       "      <td>-13.793819</td>\n",
       "      <td>-2.832404</td>\n",
       "      <td>-16.701694</td>\n",
       "      <td>7.517344</td>\n",
       "      <td>-8.507059</td>\n",
       "      <td>...</td>\n",
       "      <td>-2.358579</td>\n",
       "      <td>0.673461</td>\n",
       "      <td>-1.413700</td>\n",
       "      <td>-0.462762</td>\n",
       "      <td>-2.018575</td>\n",
       "      <td>-1.042804</td>\n",
       "      <td>364.19</td>\n",
       "      <td>0.026266</td>\n",
       "      <td>1</td>\n",
       "      <td>1</td>\n",
       "    </tr>\n",
       "    <tr>\n",
       "      <th>49906</th>\n",
       "      <td>44261.0</td>\n",
       "      <td>0.339812</td>\n",
       "      <td>-2.743745</td>\n",
       "      <td>-0.134070</td>\n",
       "      <td>-1.385729</td>\n",
       "      <td>-1.451413</td>\n",
       "      <td>1.015887</td>\n",
       "      <td>-0.524379</td>\n",
       "      <td>0.224060</td>\n",
       "      <td>0.899746</td>\n",
       "      <td>...</td>\n",
       "      <td>-0.526819</td>\n",
       "      <td>-1.156992</td>\n",
       "      <td>0.311211</td>\n",
       "      <td>-0.746647</td>\n",
       "      <td>0.040996</td>\n",
       "      <td>0.102038</td>\n",
       "      <td>520.12</td>\n",
       "      <td>0.015493</td>\n",
       "      <td>0</td>\n",
       "      <td>0</td>\n",
       "    </tr>\n",
       "    <tr>\n",
       "      <th>29474</th>\n",
       "      <td>35484.0</td>\n",
       "      <td>1.399590</td>\n",
       "      <td>-0.590701</td>\n",
       "      <td>0.168619</td>\n",
       "      <td>-1.029950</td>\n",
       "      <td>-0.539806</td>\n",
       "      <td>0.040444</td>\n",
       "      <td>-0.712567</td>\n",
       "      <td>0.002299</td>\n",
       "      <td>-0.971747</td>\n",
       "      <td>...</td>\n",
       "      <td>-0.166639</td>\n",
       "      <td>-0.810250</td>\n",
       "      <td>0.505083</td>\n",
       "      <td>-0.232340</td>\n",
       "      <td>0.011409</td>\n",
       "      <td>0.004634</td>\n",
       "      <td>31.00</td>\n",
       "      <td>0.015876</td>\n",
       "      <td>0</td>\n",
       "      <td>0</td>\n",
       "    </tr>\n",
       "    <tr>\n",
       "      <th>276481</th>\n",
       "      <td>167123.0</td>\n",
       "      <td>-0.432071</td>\n",
       "      <td>1.647895</td>\n",
       "      <td>-1.669361</td>\n",
       "      <td>-0.349504</td>\n",
       "      <td>0.785785</td>\n",
       "      <td>-0.630647</td>\n",
       "      <td>0.276990</td>\n",
       "      <td>0.586025</td>\n",
       "      <td>-0.484715</td>\n",
       "      <td>...</td>\n",
       "      <td>-0.178642</td>\n",
       "      <td>-0.017171</td>\n",
       "      <td>-0.207392</td>\n",
       "      <td>-0.157756</td>\n",
       "      <td>-0.237386</td>\n",
       "      <td>0.001934</td>\n",
       "      <td>1.50</td>\n",
       "      <td>0.015165</td>\n",
       "      <td>0</td>\n",
       "      <td>0</td>\n",
       "    </tr>\n",
       "    <tr>\n",
       "      <th>278846</th>\n",
       "      <td>168473.0</td>\n",
       "      <td>2.014160</td>\n",
       "      <td>-0.137394</td>\n",
       "      <td>-1.015839</td>\n",
       "      <td>0.327269</td>\n",
       "      <td>-0.182179</td>\n",
       "      <td>-0.956571</td>\n",
       "      <td>0.043241</td>\n",
       "      <td>-0.160746</td>\n",
       "      <td>0.363241</td>\n",
       "      <td>...</td>\n",
       "      <td>0.347045</td>\n",
       "      <td>0.061561</td>\n",
       "      <td>-0.360196</td>\n",
       "      <td>0.174730</td>\n",
       "      <td>-0.078043</td>\n",
       "      <td>-0.070571</td>\n",
       "      <td>0.89</td>\n",
       "      <td>0.013998</td>\n",
       "      <td>0</td>\n",
       "      <td>0</td>\n",
       "    </tr>\n",
       "    <tr>\n",
       "      <th>...</th>\n",
       "      <td>...</td>\n",
       "      <td>...</td>\n",
       "      <td>...</td>\n",
       "      <td>...</td>\n",
       "      <td>...</td>\n",
       "      <td>...</td>\n",
       "      <td>...</td>\n",
       "      <td>...</td>\n",
       "      <td>...</td>\n",
       "      <td>...</td>\n",
       "      <td>...</td>\n",
       "      <td>...</td>\n",
       "      <td>...</td>\n",
       "      <td>...</td>\n",
       "      <td>...</td>\n",
       "      <td>...</td>\n",
       "      <td>...</td>\n",
       "      <td>...</td>\n",
       "      <td>...</td>\n",
       "      <td>...</td>\n",
       "      <td>...</td>\n",
       "    </tr>\n",
       "    <tr>\n",
       "      <th>75723</th>\n",
       "      <td>56223.0</td>\n",
       "      <td>-1.994348</td>\n",
       "      <td>1.503076</td>\n",
       "      <td>-0.365560</td>\n",
       "      <td>0.780223</td>\n",
       "      <td>-0.957956</td>\n",
       "      <td>0.038648</td>\n",
       "      <td>-0.453702</td>\n",
       "      <td>1.553565</td>\n",
       "      <td>-0.561964</td>\n",
       "      <td>...</td>\n",
       "      <td>-0.081356</td>\n",
       "      <td>-0.366704</td>\n",
       "      <td>-0.269380</td>\n",
       "      <td>-0.278170</td>\n",
       "      <td>0.082042</td>\n",
       "      <td>-0.015071</td>\n",
       "      <td>75.69</td>\n",
       "      <td>0.016540</td>\n",
       "      <td>1</td>\n",
       "      <td>0</td>\n",
       "    </tr>\n",
       "    <tr>\n",
       "      <th>252263</th>\n",
       "      <td>155726.0</td>\n",
       "      <td>-0.234567</td>\n",
       "      <td>0.733694</td>\n",
       "      <td>0.486250</td>\n",
       "      <td>-0.718186</td>\n",
       "      <td>0.782227</td>\n",
       "      <td>-0.788837</td>\n",
       "      <td>1.056307</td>\n",
       "      <td>-0.175016</td>\n",
       "      <td>-0.244864</td>\n",
       "      <td>...</td>\n",
       "      <td>-0.024845</td>\n",
       "      <td>-0.428558</td>\n",
       "      <td>-0.563551</td>\n",
       "      <td>0.159926</td>\n",
       "      <td>0.094924</td>\n",
       "      <td>0.163736</td>\n",
       "      <td>9.99</td>\n",
       "      <td>0.015676</td>\n",
       "      <td>0</td>\n",
       "      <td>0</td>\n",
       "    </tr>\n",
       "    <tr>\n",
       "      <th>221246</th>\n",
       "      <td>142491.0</td>\n",
       "      <td>0.040441</td>\n",
       "      <td>-0.109737</td>\n",
       "      <td>-1.266430</td>\n",
       "      <td>1.004783</td>\n",
       "      <td>2.223390</td>\n",
       "      <td>-0.670372</td>\n",
       "      <td>0.490662</td>\n",
       "      <td>-0.033739</td>\n",
       "      <td>-0.307052</td>\n",
       "      <td>...</td>\n",
       "      <td>0.162391</td>\n",
       "      <td>-1.180279</td>\n",
       "      <td>-1.484172</td>\n",
       "      <td>-0.619133</td>\n",
       "      <td>0.357845</td>\n",
       "      <td>0.354379</td>\n",
       "      <td>7.63</td>\n",
       "      <td>0.015890</td>\n",
       "      <td>0</td>\n",
       "      <td>0</td>\n",
       "    </tr>\n",
       "    <tr>\n",
       "      <th>81910</th>\n",
       "      <td>59157.0</td>\n",
       "      <td>-0.495048</td>\n",
       "      <td>0.991481</td>\n",
       "      <td>1.671584</td>\n",
       "      <td>-0.342474</td>\n",
       "      <td>0.470012</td>\n",
       "      <td>-0.348503</td>\n",
       "      <td>0.996077</td>\n",
       "      <td>-0.351891</td>\n",
       "      <td>-0.219231</td>\n",
       "      <td>...</td>\n",
       "      <td>-0.145562</td>\n",
       "      <td>-0.011279</td>\n",
       "      <td>-0.162997</td>\n",
       "      <td>0.020511</td>\n",
       "      <td>0.040529</td>\n",
       "      <td>-0.269775</td>\n",
       "      <td>3.59</td>\n",
       "      <td>0.016808</td>\n",
       "      <td>1</td>\n",
       "      <td>0</td>\n",
       "    </tr>\n",
       "    <tr>\n",
       "      <th>59490</th>\n",
       "      <td>48864.0</td>\n",
       "      <td>-1.590486</td>\n",
       "      <td>0.992415</td>\n",
       "      <td>-0.512841</td>\n",
       "      <td>1.120752</td>\n",
       "      <td>-1.916756</td>\n",
       "      <td>3.142176</td>\n",
       "      <td>2.120463</td>\n",
       "      <td>-3.819649</td>\n",
       "      <td>0.209349</td>\n",
       "      <td>...</td>\n",
       "      <td>-3.362671</td>\n",
       "      <td>-1.076905</td>\n",
       "      <td>-0.869555</td>\n",
       "      <td>-0.307649</td>\n",
       "      <td>0.125750</td>\n",
       "      <td>-0.607226</td>\n",
       "      <td>906.31</td>\n",
       "      <td>0.018724</td>\n",
       "      <td>1</td>\n",
       "      <td>0</td>\n",
       "    </tr>\n",
       "  </tbody>\n",
       "</table>\n",
       "<p>56962 rows × 33 columns</p>\n",
       "</div>"
      ],
      "text/plain": [
       "            Time         V1        V2         V3        V4         V5  \\\n",
       "43428    41505.0 -16.526507  8.584972 -18.649853  9.505594 -13.793819   \n",
       "49906    44261.0   0.339812 -2.743745  -0.134070 -1.385729  -1.451413   \n",
       "29474    35484.0   1.399590 -0.590701   0.168619 -1.029950  -0.539806   \n",
       "276481  167123.0  -0.432071  1.647895  -1.669361 -0.349504   0.785785   \n",
       "278846  168473.0   2.014160 -0.137394  -1.015839  0.327269  -0.182179   \n",
       "...          ...        ...       ...        ...       ...        ...   \n",
       "75723    56223.0  -1.994348  1.503076  -0.365560  0.780223  -0.957956   \n",
       "252263  155726.0  -0.234567  0.733694   0.486250 -0.718186   0.782227   \n",
       "221246  142491.0   0.040441 -0.109737  -1.266430  1.004783   2.223390   \n",
       "81910    59157.0  -0.495048  0.991481   1.671584 -0.342474   0.470012   \n",
       "59490    48864.0  -1.590486  0.992415  -0.512841  1.120752  -1.916756   \n",
       "\n",
       "              V6         V7        V8        V9  ...       V23       V24  \\\n",
       "43428  -2.832404 -16.701694  7.517344 -8.507059  ... -2.358579  0.673461   \n",
       "49906   1.015887  -0.524379  0.224060  0.899746  ... -0.526819 -1.156992   \n",
       "29474   0.040444  -0.712567  0.002299 -0.971747  ... -0.166639 -0.810250   \n",
       "276481 -0.630647   0.276990  0.586025 -0.484715  ... -0.178642 -0.017171   \n",
       "278846 -0.956571   0.043241 -0.160746  0.363241  ...  0.347045  0.061561   \n",
       "...          ...        ...       ...       ...  ...       ...       ...   \n",
       "75723   0.038648  -0.453702  1.553565 -0.561964  ... -0.081356 -0.366704   \n",
       "252263 -0.788837   1.056307 -0.175016 -0.244864  ... -0.024845 -0.428558   \n",
       "221246 -0.670372   0.490662 -0.033739 -0.307052  ...  0.162391 -1.180279   \n",
       "81910  -0.348503   0.996077 -0.351891 -0.219231  ... -0.145562 -0.011279   \n",
       "59490   3.142176   2.120463 -3.819649  0.209349  ... -3.362671 -1.076905   \n",
       "\n",
       "             V25       V26       V27       V28  Amount       MSE  Mse_outlier  \\\n",
       "43428  -1.413700 -0.462762 -2.018575 -1.042804  364.19  0.026266            1   \n",
       "49906   0.311211 -0.746647  0.040996  0.102038  520.12  0.015493            0   \n",
       "29474   0.505083 -0.232340  0.011409  0.004634   31.00  0.015876            0   \n",
       "276481 -0.207392 -0.157756 -0.237386  0.001934    1.50  0.015165            0   \n",
       "278846 -0.360196  0.174730 -0.078043 -0.070571    0.89  0.013998            0   \n",
       "...          ...       ...       ...       ...     ...       ...          ...   \n",
       "75723  -0.269380 -0.278170  0.082042 -0.015071   75.69  0.016540            1   \n",
       "252263 -0.563551  0.159926  0.094924  0.163736    9.99  0.015676            0   \n",
       "221246 -1.484172 -0.619133  0.357845  0.354379    7.63  0.015890            0   \n",
       "81910  -0.162997  0.020511  0.040529 -0.269775    3.59  0.016808            1   \n",
       "59490  -0.869555 -0.307649  0.125750 -0.607226  906.31  0.018724            1   \n",
       "\n",
       "        Class  \n",
       "43428       1  \n",
       "49906       0  \n",
       "29474       0  \n",
       "276481      0  \n",
       "278846      0  \n",
       "...       ...  \n",
       "75723       0  \n",
       "252263      0  \n",
       "221246      0  \n",
       "81910       0  \n",
       "59490       0  \n",
       "\n",
       "[56962 rows x 33 columns]"
      ]
     },
     "execution_count": 85,
     "metadata": {},
     "output_type": "execute_result"
    }
   ],
   "source": [
    "original_Xtest_df = pd.DataFrame(original_Xtest,columns=X.columns)\n",
    "original_Xtest_df['MSE'] = mse \n",
    "original_Xtest_df['Mse_outlier'] = 0\n",
    "original_Xtest_df.loc[original_Xtest_df['MSE'] > threshold,'Mse_outlier'] = 1\n",
    "original_Xtest_df['Class'] = original_ytest\n",
    "original_Xtest_df"
   ]
  },
  {
   "cell_type": "code",
   "execution_count": 86,
   "metadata": {},
   "outputs": [
    {
     "data": {
      "text/plain": [
       "array([[34121, 22743],\n",
       "       [   56,    42]], dtype=int64)"
      ]
     },
     "execution_count": 86,
     "metadata": {},
     "output_type": "execute_result"
    }
   ],
   "source": [
    "confusion_matrix(original_Xtest_df['Class'].values, original_Xtest_df['Mse_outlier'].values)"
   ]
  },
  {
   "cell_type": "code",
   "execution_count": 87,
   "metadata": {},
   "outputs": [
    {
     "data": {
      "text/plain": [
       "0.5143085758501488"
      ]
     },
     "execution_count": 87,
     "metadata": {},
     "output_type": "execute_result"
    }
   ],
   "source": [
    "roc_auc_score(original_Xtest_df['Class'].values, original_Xtest_df['Mse_outlier'].values)"
   ]
  },
  {
   "cell_type": "code",
   "execution_count": 157,
   "metadata": {},
   "outputs": [
    {
     "data": {
      "image/png": "[encoded data removed]",
      "text/plain": [
       "<Figure size 432x288 with 1 Axes>"
      ]
     },
     "metadata": {
      "needs_background": "light"
     },
     "output_type": "display_data"
    }
   ],
   "source": [
    "threshold_vis=0.15\n",
    "threshold_score=mse[np.argsort(-mse)][round(threshold_vis*len(original_ytest))]\n",
    "plt.scatter(range(len(mse)),mse,c='g',label='Normal')\n",
    "plt.scatter(np.array(range(len(mse)))[original_ytest==1],mse[original_ytest==1],c='r',label='Anomaly')\n",
    "\n",
    "plt.hlines(threshold_score,xmin=0,xmax=len(mse),colors='y',linewidth=4)\n",
    "\n",
    "plt.title(f'Threshold = {1-threshold_vis}')\n",
    "plt.legend()\n",
    "plt.show()"
   ]
  },
  {
   "cell_type": "code",
   "execution_count": 18,
   "metadata": {},
   "outputs": [],
   "source": [
    "from sklearn.ensemble import IsolationForest\n",
    "from sklearn.cluster import KMeans\n",
    "iso=IsolationForest(n_estimators=100, max_samples= len(x_scale),contamination = 0.001727485630620034,n_jobs=5, random_state=42)\n",
    "iso_history = iso.fit(x_scale)\n",
    "iso_dec = iso_history.decision_function(Xtest_scale)"
   ]
  },
  {
   "cell_type": "code",
   "execution_count": 111,
   "metadata": {},
   "outputs": [
    {
     "name": "stdout",
     "output_type": "stream",
     "text": [
      "Threshold:  1.1280946661193587\n"
     ]
    }
   ],
   "source": [
    "print('Threshold: ',np.quantile(1 - iso_dec,0.6))\n",
    "isothreshold =np.quantile(1 - iso_dec,0.6)\n",
    "iso_df = pd.DataFrame(original_Xtest,columns=X.columns)\n",
    "iso_df['outlier'] = 0\n",
    "iso_df[\"iso_dec\"] = iso_dec\n",
    "iso_df.loc[iso_df['iso_dec'] < (1-isothreshold),'outlier'] = 1\n",
    "iso_df['Class']= original_ytest"
   ]
  },
  {
   "cell_type": "code",
   "execution_count": 112,
   "metadata": {},
   "outputs": [
    {
     "data": {
      "text/plain": [
       "0.7442960935077464"
      ]
     },
     "execution_count": 112,
     "metadata": {},
     "output_type": "execute_result"
    }
   ],
   "source": [
    "roc_auc_score(original_ytest,iso_df['outlier'].values)"
   ]
  },
  {
   "cell_type": "code",
   "execution_count": 113,
   "metadata": {},
   "outputs": [
    {
     "data": {
      "text/plain": [
       "array([[34166, 22698],\n",
       "       [   11,    87]], dtype=int64)"
      ]
     },
     "execution_count": 113,
     "metadata": {},
     "output_type": "execute_result"
    }
   ],
   "source": [
    "iso_cnf = confusion_matrix(original_ytest,iso_df['outlier'].values)\n",
    "iso_cnf"
   ]
  },
  {
   "cell_type": "code",
   "execution_count": 155,
   "metadata": {},
   "outputs": [
    {
     "data": {
      "image/png": "[encoded data removed]",
      "text/plain": [
       "<Figure size 432x288 with 1 Axes>"
      ]
     },
     "metadata": {
      "needs_background": "light"
     },
     "output_type": "display_data"
    }
   ],
   "source": [
    "iso_dec = 1- iso_dec\n",
    "threshold_vis=0.1\n",
    "threshold_score=iso_dec[np.argsort(-iso_dec)][round(threshold_vis*len(original_ytest))]\n",
    "plt.scatter(range(len(iso_dec)),iso_dec,c='g',label='Normal')\n",
    "plt.scatter(np.array(range(len(iso_dec)))[original_ytest==1],iso_dec[original_ytest==1],c='r',label='Anomaly')\n",
    "\n",
    "plt.hlines(threshold_score,xmin=0,xmax=len(iso_dec),colors='y',linewidth=4)\n",
    "\n",
    "plt.title(f'Threshold = {1-threshold_vis}')\n",
    "plt.legend()\n",
    "plt.show()"
   ]
  },
  {
   "cell_type": "code",
   "execution_count": 23,
   "metadata": {},
   "outputs": [],
   "source": [
    "km_model = KMeans(n_clusters=100,random_state=42,n_jobs=-1)\n",
    "\n",
    "km_model.fit(x_scale)\n",
    "km_clusters = km_model.predict(Xtest_scale)\n",
    "km_clusters_centers=km_model.cluster_centers_"
   ]
  },
  {
   "cell_type": "code",
   "execution_count": 150,
   "metadata": {},
   "outputs": [],
   "source": [
    "dist = [np.linalg.norm(x-y) for x,y in zip(Xtest_scale,km_clusters_centers[km_clusters])]\n",
    "\n",
    "km_y_pred=np.array(dist)\n",
    "km_y_pred[dist>=np.percentile(dist,60)]=1\n",
    "km_y_pred[dist<np.percentile(dist,60)]=0"
   ]
  },
  {
   "cell_type": "code",
   "execution_count": 151,
   "metadata": {},
   "outputs": [
    {
     "data": {
      "text/plain": [
       "0.7034094237019514"
      ]
     },
     "execution_count": 151,
     "metadata": {},
     "output_type": "execute_result"
    }
   ],
   "source": [
    "roc_auc_score(original_ytest,km_y_pred)"
   ]
  },
  {
   "cell_type": "code",
   "execution_count": 152,
   "metadata": {},
   "outputs": [
    {
     "data": {
      "text/plain": [
       "array([[34158, 22706],\n",
       "       [   19,    79]], dtype=int64)"
      ]
     },
     "execution_count": 152,
     "metadata": {},
     "output_type": "execute_result"
    }
   ],
   "source": [
    "km_cnf = confusion_matrix(original_ytest,km_y_pred)\n",
    "km_cnf"
   ]
  },
  {
   "cell_type": "code",
   "execution_count": 154,
   "metadata": {},
   "outputs": [
    {
     "data": {
      "image/png": "[encoded data removed]",
      "text/plain": [
       "<Figure size 432x288 with 1 Axes>"
      ]
     },
     "metadata": {
      "needs_background": "light"
     },
     "output_type": "display_data"
    }
   ],
   "source": [
    "km_y_pred = np.array(dist)\n",
    "threshold_vis=0.1\n",
    "threshold_score=km_y_pred[np.argsort(-km_y_pred)][round(threshold_vis*len(original_ytest))]\n",
    "plt.scatter(range(len(km_y_pred)),km_y_pred,c='g',label='Normal')\n",
    "plt.scatter(np.array(range(len(km_y_pred)))[original_ytest==1],km_y_pred[original_ytest==1],c='r',label='Anomaly')\n",
    "\n",
    "plt.hlines(threshold_score,xmin=0,xmax=len(km_y_pred),colors='y',linewidth=4)\n",
    "\n",
    "plt.title(f'Threshold = {1-threshold_vis}')\n",
    "plt.legend()\n",
    "plt.show()"
   ]
  },
  {
   "cell_type": "code",
   "execution_count": null,
   "metadata": {},
   "outputs": [],
   "source": []
  }
 ],
 "metadata": {
  "kernelspec": {
   "display_name": "Python 3",
   "language": "python",
   "name": "python3"
  },
  "language_info": {
   "codemirror_mode": {
    "name": "ipython",
    "version": 3
   },
   "file_extension": ".py",
   "mimetype": "text/x-python",
   "name": "python",
   "nbconvert_exporter": "python",
   "pygments_lexer": "ipython3",
   "version": "3.7.9"
  }
 },
 "nbformat": 4,
 "nbformat_minor": 4
}
