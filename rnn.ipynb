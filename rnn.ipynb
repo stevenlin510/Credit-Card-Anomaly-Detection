{
 "cells": [
  {
   "cell_type": "code",
   "execution_count": 17,
   "metadata": {
    "tags": []
   },
   "outputs": [
    {
     "output_type": "execute_result",
     "data": {
      "text/plain": [
       "array([0., 0., 0., ..., 0., 0., 0.])"
      ]
     },
     "metadata": {},
     "execution_count": 17
    }
   ],
   "source": [
    "import numpy as np\n",
    "import pandas as pd\n",
    "import tensorflow \n",
    "X = pd.read_csv('./creditcard.csv', na_filter=True)\n",
    "\n",
    "y_original = np.array(X['Class'], dtype='float')\n",
    "\n",
    "X.drop(['Class'], inplace=True, axis=1)\n",
    "\n",
    "rolling_window_size = 10  ### this selects how many historical transactions should be analyzed to judge the transaction at hand -- RNN width\n",
    "\n",
    "X_interim = np.zeros([(X.shape[0]-rolling_window_size)*10,30])\n",
    "y = []\n",
    "for i in range((X.shape[0]-rolling_window_size)):\n",
    "    beg = 0+i\n",
    "    end = beg+rolling_window_size\n",
    "    s = np.array(X[beg:end], dtype='float')\n",
    "    X_interim[(rolling_window_size*i):(rolling_window_size*(i+1)),:] = s\n",
    "    y.append(y_original[end])\n",
    "    \n",
    " \n",
    "y = np.array(y, dtype='float')\n",
    "X_interim = X_interim[:,1::]\n",
    "X_tensor = X_interim.reshape((np.shape(X_interim)[0]//rolling_window_size), rolling_window_size, np.shape(X_interim)[1])\n",
    "y\n"
   ]
  },
  {
   "cell_type": "code",
   "execution_count": 22,
   "metadata": {},
   "outputs": [
    {
     "output_type": "error",
     "ename": "NameError",
     "evalue": "name 'X_tensor' is not defined",
     "traceback": [
      "\u001b[1;31m---------------------------------------------------------------------------\u001b[0m",
      "\u001b[1;31mNameError\u001b[0m                                 Traceback (most recent call last)",
      "\u001b[1;32m<ipython-input-22-a1b37b144dfa>\u001b[0m in \u001b[0;36m<module>\u001b[1;34m\u001b[0m\n\u001b[1;32m----> 1\u001b[1;33m \u001b[0mX_tensor\u001b[0m\u001b[1;33m.\u001b[0m\u001b[0mshape\u001b[0m\u001b[1;33m\u001b[0m\u001b[1;33m\u001b[0m\u001b[0m\n\u001b[0m",
      "\u001b[1;31mNameError\u001b[0m: name 'X_tensor' is not defined"
     ]
    }
   ],
   "source": [
    "X_tensor.shape"
   ]
  },
  {
   "cell_type": "code",
   "execution_count": 18,
   "metadata": {},
   "outputs": [
    {
     "output_type": "stream",
     "name": "stdout",
     "text": [
      "Model: \"sequential_2\"\n",
      "_________________________________________________________________\n",
      "Layer (type)                 Output Shape              Param #   \n",
      "=================================================================\n",
      "lstm_1 (LSTM)                (None, 20)                4000      \n",
      "_________________________________________________________________\n",
      "dense_1 (Dense)              (None, 1)                 21        \n",
      "=================================================================\n",
      "Total params: 4,021\n",
      "Trainable params: 4,021\n",
      "Non-trainable params: 0\n",
      "_________________________________________________________________\n",
      "None\n",
      "Epoch 1/50\n",
      "10/10 [==============================] - 4s 246ms/step - loss: 18.3718 - accuracy: 0.6355 - val_loss: 2.7864 - val_accuracy: 0.5253\n",
      "Epoch 2/50\n",
      "10/10 [==============================] - 2s 214ms/step - loss: 25.7602 - accuracy: 0.5942 - val_loss: 2.7581 - val_accuracy: 0.4884\n",
      "Epoch 3/50\n",
      "10/10 [==============================] - 2s 211ms/step - loss: 9.4440 - accuracy: 0.5518 - val_loss: 2.5333 - val_accuracy: 0.4629\n",
      "Epoch 4/50\n",
      "10/10 [==============================] - 2s 211ms/step - loss: 8.3691 - accuracy: 0.5149 - val_loss: 2.5800 - val_accuracy: 0.4320\n",
      "Epoch 5/50\n",
      "10/10 [==============================] - 2s 206ms/step - loss: 12.0897 - accuracy: 0.4705 - val_loss: 2.5226 - val_accuracy: 0.4039\n",
      "Epoch 6/50\n",
      "10/10 [==============================] - 2s 209ms/step - loss: 8.4532 - accuracy: 0.4318 - val_loss: 2.5712 - val_accuracy: 0.3748\n",
      "Epoch 7/50\n",
      "10/10 [==============================] - 2s 223ms/step - loss: 5.5262 - accuracy: 0.3903 - val_loss: 2.5462 - val_accuracy: 0.3635\n",
      "Epoch 8/50\n",
      "10/10 [==============================] - 2s 224ms/step - loss: 8.3978 - accuracy: 0.3817 - val_loss: 2.4074 - val_accuracy: 0.3578\n",
      "Epoch 9/50\n",
      "10/10 [==============================] - 2s 216ms/step - loss: 10.1920 - accuracy: 0.3819 - val_loss: 2.2654 - val_accuracy: 0.3477\n",
      "Epoch 10/50\n",
      "10/10 [==============================] - 2s 214ms/step - loss: 9.3518 - accuracy: 0.3775 - val_loss: 2.1345 - val_accuracy: 0.3394\n",
      "Epoch 11/50\n",
      "10/10 [==============================] - 2s 215ms/step - loss: 5.1899 - accuracy: 0.3784 - val_loss: 2.0005 - val_accuracy: 0.3377\n",
      "Epoch 12/50\n",
      "10/10 [==============================] - 2s 213ms/step - loss: 9.3565 - accuracy: 0.3781 - val_loss: 1.9891 - val_accuracy: 0.3247\n",
      "Epoch 13/50\n",
      "10/10 [==============================] - 2s 206ms/step - loss: 6.2692 - accuracy: 0.3677 - val_loss: 1.9703 - val_accuracy: 0.3120\n",
      "Epoch 14/50\n",
      "10/10 [==============================] - 2s 210ms/step - loss: 5.9682 - accuracy: 0.3575 - val_loss: 1.9630 - val_accuracy: 0.2985\n",
      "Epoch 15/50\n",
      "10/10 [==============================] - 2s 205ms/step - loss: 4.8475 - accuracy: 0.3426 - val_loss: 1.9089 - val_accuracy: 0.2888\n",
      "Epoch 16/50\n",
      "10/10 [==============================] - 2s 223ms/step - loss: 4.0458 - accuracy: 0.3436 - val_loss: 1.7538 - val_accuracy: 0.2914\n",
      "Epoch 17/50\n",
      "10/10 [==============================] - 2s 214ms/step - loss: 5.2310 - accuracy: 0.3459 - val_loss: 1.5439 - val_accuracy: 0.2885\n",
      "Epoch 18/50\n",
      "10/10 [==============================] - 2s 205ms/step - loss: 4.3163 - accuracy: 0.3461 - val_loss: 1.4171 - val_accuracy: 0.2904\n",
      "Epoch 19/50\n",
      "10/10 [==============================] - 2s 219ms/step - loss: 3.4570 - accuracy: 0.3418 - val_loss: 1.4148 - val_accuracy: 0.2801\n",
      "Epoch 20/50\n",
      "10/10 [==============================] - 2s 213ms/step - loss: 5.0392 - accuracy: 0.3357 - val_loss: 1.3629 - val_accuracy: 0.2709\n",
      "Epoch 21/50\n",
      "10/10 [==============================] - 2s 208ms/step - loss: 3.0444 - accuracy: 0.3262 - val_loss: 1.3494 - val_accuracy: 0.2569\n",
      "Epoch 22/50\n",
      "10/10 [==============================] - 2s 206ms/step - loss: 5.6046 - accuracy: 0.3222 - val_loss: 1.3473 - val_accuracy: 0.2360\n",
      "Epoch 23/50\n",
      "10/10 [==============================] - 2s 207ms/step - loss: 5.7832 - accuracy: 0.2975 - val_loss: 1.4175 - val_accuracy: 0.1964\n",
      "Epoch 24/50\n",
      "10/10 [==============================] - 2s 203ms/step - loss: 2.9001 - accuracy: 0.2806 - val_loss: 1.3545 - val_accuracy: 0.1942\n",
      "Epoch 25/50\n",
      "10/10 [==============================] - 2s 214ms/step - loss: 3.2603 - accuracy: 0.2789 - val_loss: 1.2364 - val_accuracy: 0.2144\n",
      "Epoch 26/50\n",
      "10/10 [==============================] - 2s 216ms/step - loss: 2.4352 - accuracy: 0.2957 - val_loss: 1.0967 - val_accuracy: 0.2536\n",
      "Epoch 27/50\n",
      "10/10 [==============================] - 2s 211ms/step - loss: 3.6401 - accuracy: 0.3226 - val_loss: 0.8710 - val_accuracy: 0.3342\n",
      "Epoch 28/50\n",
      "10/10 [==============================] - 2s 204ms/step - loss: 3.8380 - accuracy: 0.3552 - val_loss: 0.7882 - val_accuracy: 0.3891\n",
      "Epoch 29/50\n",
      "10/10 [==============================] - 2s 208ms/step - loss: 2.0940 - accuracy: 0.3695 - val_loss: 0.7623 - val_accuracy: 0.4085\n",
      "Epoch 30/50\n",
      "10/10 [==============================] - 2s 209ms/step - loss: 2.1265 - accuracy: 0.3828 - val_loss: 0.7609 - val_accuracy: 0.4040\n",
      "Epoch 31/50\n",
      "10/10 [==============================] - 2s 211ms/step - loss: 1.9870 - accuracy: 0.3761 - val_loss: 0.7688 - val_accuracy: 0.3888\n",
      "Epoch 32/50\n",
      "10/10 [==============================] - 2s 211ms/step - loss: 2.5022 - accuracy: 0.3650 - val_loss: 0.8061 - val_accuracy: 0.3455\n",
      "Epoch 33/50\n",
      "10/10 [==============================] - 2s 209ms/step - loss: 2.0740 - accuracy: 0.3474 - val_loss: 0.7870 - val_accuracy: 0.3586\n",
      "Epoch 34/50\n",
      "10/10 [==============================] - 2s 204ms/step - loss: 1.8515 - accuracy: 0.3587 - val_loss: 0.7808 - val_accuracy: 0.3642\n",
      "Epoch 35/50\n",
      "10/10 [==============================] - 2s 204ms/step - loss: 1.8643 - accuracy: 0.3603 - val_loss: 0.7740 - val_accuracy: 0.3730\n",
      "Epoch 36/50\n",
      "10/10 [==============================] - 2s 205ms/step - loss: 2.2293 - accuracy: 0.3667 - val_loss: 0.7621 - val_accuracy: 0.3891\n",
      "Epoch 37/50\n",
      "10/10 [==============================] - 2s 204ms/step - loss: 1.9507 - accuracy: 0.3653 - val_loss: 0.7682 - val_accuracy: 0.3805\n",
      "Epoch 38/50\n",
      "10/10 [==============================] - 2s 206ms/step - loss: 2.0882 - accuracy: 0.3622 - val_loss: 0.7733 - val_accuracy: 0.3806\n",
      "Epoch 39/50\n",
      "10/10 [==============================] - 2s 214ms/step - loss: 2.0146 - accuracy: 0.3622 - val_loss: 0.7741 - val_accuracy: 0.3877\n",
      "Epoch 40/50\n",
      "10/10 [==============================] - 2s 231ms/step - loss: 2.0914 - accuracy: 0.3729 - val_loss: 0.7757 - val_accuracy: 0.3826\n",
      "Epoch 41/50\n",
      "10/10 [==============================] - 2s 218ms/step - loss: 2.1574 - accuracy: 0.3613 - val_loss: 0.7833 - val_accuracy: 0.3615\n",
      "Epoch 42/50\n",
      "10/10 [==============================] - 2s 213ms/step - loss: 1.9840 - accuracy: 0.3501 - val_loss: 0.7819 - val_accuracy: 0.3581\n",
      "Epoch 43/50\n",
      "10/10 [==============================] - 2s 213ms/step - loss: 1.9528 - accuracy: 0.3442 - val_loss: 0.7785 - val_accuracy: 0.3578\n",
      "Epoch 44/50\n",
      "10/10 [==============================] - 2s 210ms/step - loss: 1.9431 - accuracy: 0.3539 - val_loss: 0.7534 - val_accuracy: 0.3942\n",
      "Epoch 45/50\n",
      "10/10 [==============================] - 2s 214ms/step - loss: 1.8879 - accuracy: 0.3704 - val_loss: 0.7828 - val_accuracy: 0.3430\n",
      "Epoch 46/50\n",
      "10/10 [==============================] - 2s 210ms/step - loss: 2.1695 - accuracy: 0.3292 - val_loss: 0.8081 - val_accuracy: 0.3103\n",
      "Epoch 47/50\n",
      "10/10 [==============================] - 2s 208ms/step - loss: 2.1913 - accuracy: 0.3066 - val_loss: 0.7995 - val_accuracy: 0.3165\n",
      "Epoch 48/50\n",
      "10/10 [==============================] - 2s 204ms/step - loss: 2.0216 - accuracy: 0.3125 - val_loss: 0.7919 - val_accuracy: 0.3257\n",
      "Epoch 49/50\n",
      "10/10 [==============================] - 2s 203ms/step - loss: 2.4183 - accuracy: 0.3159 - val_loss: 0.8119 - val_accuracy: 0.2945\n",
      "Epoch 50/50\n",
      "10/10 [==============================] - 2s 196ms/step - loss: 1.9997 - accuracy: 0.2892 - val_loss: 0.8314 - val_accuracy: 0.2764\n"
     ]
    }
   ],
   "source": [
    "from tensorflow.keras.models import Sequential\n",
    "from tensorflow.keras.layers import Dense\n",
    "from tensorflow.keras.layers import Dropout\n",
    "from tensorflow.keras.layers import LSTM\n",
    "\n",
    "test_train_split = 0.5\n",
    "stratify = True\n",
    "\n",
    "if stratify:\n",
    "    y = np.vstack((range(len(y)),y)).T\n",
    "    y_pos = y[y[:,1]==1]\n",
    "    y_neg = y[y[:,1]==0]\n",
    "    \n",
    "    y_pos = y_pos[np.random.choice(y_pos.shape[0], int(y_pos.shape[0]*test_train_split), replace=False),:]\n",
    "    y_neg = y_neg[np.random.choice(y_neg.shape[0], int(y_neg.shape[0]*test_train_split), replace=False),:]\n",
    "    \n",
    "    train_idx = np.array(np.hstack((y_pos[:,0],y_neg[:,0])), dtype='int')\n",
    "    \n",
    "    X_train = X_tensor[train_idx, :, :]\n",
    "    X_test = np.delete(X_tensor, train_idx, axis=0)\n",
    "    y_train = y[train_idx,1]\n",
    "    y_test = np.delete(y, train_idx, axis=0)\n",
    "    y_test = y_test[:,1]\n",
    "else: \n",
    "    train_idx = np.random.choice(X_tensor.shape[0], int(X_tensor.shape[0]*test_train_split), replace=False)\n",
    "    X_train = X_tensor[train_idx, :, :]\n",
    "    X_test = np.delete(X_tensor, train_idx, axis=0)\n",
    "    y_train = y[train_idx]\n",
    "    y_test = np.delete(y, train_idx, axis=0)\n",
    "\n",
    "del (X_tensor, y, stratify, test_train_split, train_idx, y_neg, y_pos)\n",
    "\n",
    "\n",
    "### Hyperparameters Tuning\n",
    "# First test optimal epochs holding everything else constant\n",
    "# Dropout: 0.1-0.6\n",
    "# GradientClipping: 0.1-10\n",
    "# BatchSize: 32,64,128,256,512 (power of 2)\n",
    "\n",
    "\n",
    "### Train LSTM using Keras 2 API ###\n",
    "model = Sequential()\n",
    "model.add(LSTM(20, input_shape=X_train.shape[1:], kernel_initializer='lecun_uniform', activation='relu', bias_regularizer=None, activity_regularizer=None, dropout=0.2, recurrent_dropout=0.2))#, return_sequences=True))\n",
    "#model.add(LSTM(12, activation='relu', return_sequences=True))\n",
    "#model.add(LSTM(8, activation='relu'))\n",
    "model.add(Dense(1, kernel_initializer='lecun_uniform', activation='sigmoid'))\n",
    "\n",
    "model.compile(loss='binary_crossentropy', optimizer='adam', metrics=['accuracy']) #optimizer='rmsprop'\n",
    "print(model.summary())\n",
    "\n",
    "model.fit(X_train, y_train, epochs=50, batch_size=10000, class_weight={0 : 1., 1: float(int(1/np.mean(y_train)))}, validation_split=0.3)\n",
    "\n",
    "train_predict = model.predict(X_train)\n",
    "test_predict = model.predict(X_test)\n"
   ]
  },
  {
   "cell_type": "code",
   "execution_count": 19,
   "metadata": {},
   "outputs": [
    {
     "output_type": "stream",
     "name": "stdout",
     "text": [
      "TRAIN | AUC Score: 0.6391376063959019\nTEST | AUC Score: 0.5927647006240099\n"
     ]
    }
   ],
   "source": [
    "### test AUC ###\n",
    "from sklearn import metrics \n",
    "\n",
    "fpr, tpr, thresholds = metrics.roc_curve(y_train, train_predict, pos_label=1)\n",
    "print('TRAIN | AUC Score: ' + str((metrics.auc(fpr, tpr))))\n",
    "fpr, tpr, thresholds = metrics.roc_curve(y_test, test_predict, pos_label=1)\n",
    "print('TEST | AUC Score: ' + str((metrics.auc(fpr, tpr))))"
   ]
  },
  {
   "cell_type": "code",
   "execution_count": 53,
   "metadata": {},
   "outputs": [
    {
     "output_type": "execute_result",
     "data": {
      "text/plain": [
       "          0  test_predict  outlier\n",
       "0       0.0      0.525307      NaN\n",
       "1       0.0      0.629138      NaN\n",
       "2       0.0      0.568565      NaN\n",
       "3       0.0      0.524333      NaN\n",
       "4       0.0      0.525083      NaN\n",
       "...     ...           ...      ...\n",
       "142394  0.0      0.517989      NaN\n",
       "142395  0.0      0.817784      1.0\n",
       "142396  0.0      0.593798      NaN\n",
       "142397  0.0      0.547244      NaN\n",
       "142398  0.0      0.648251      NaN\n",
       "\n",
       "[142399 rows x 3 columns]"
      ],
      "text/html": "<div>\n<style scoped>\n    .dataframe tbody tr th:only-of-type {\n        vertical-align: middle;\n    }\n\n    .dataframe tbody tr th {\n        vertical-align: top;\n    }\n\n    .dataframe thead th {\n        text-align: right;\n    }\n</style>\n<table border=\"1\" class=\"dataframe\">\n  <thead>\n    <tr style=\"text-align: right;\">\n      <th></th>\n      <th>0</th>\n      <th>test_predict</th>\n      <th>outlier</th>\n    </tr>\n  </thead>\n  <tbody>\n    <tr>\n      <th>0</th>\n      <td>0.0</td>\n      <td>0.525307</td>\n      <td>NaN</td>\n    </tr>\n    <tr>\n      <th>1</th>\n      <td>0.0</td>\n      <td>0.629138</td>\n      <td>NaN</td>\n    </tr>\n    <tr>\n      <th>2</th>\n      <td>0.0</td>\n      <td>0.568565</td>\n      <td>NaN</td>\n    </tr>\n    <tr>\n      <th>3</th>\n      <td>0.0</td>\n      <td>0.524333</td>\n      <td>NaN</td>\n    </tr>\n    <tr>\n      <th>4</th>\n      <td>0.0</td>\n      <td>0.525083</td>\n      <td>NaN</td>\n    </tr>\n    <tr>\n      <th>...</th>\n      <td>...</td>\n      <td>...</td>\n      <td>...</td>\n    </tr>\n    <tr>\n      <th>142394</th>\n      <td>0.0</td>\n      <td>0.517989</td>\n      <td>NaN</td>\n    </tr>\n    <tr>\n      <th>142395</th>\n      <td>0.0</td>\n      <td>0.817784</td>\n      <td>1.0</td>\n    </tr>\n    <tr>\n      <th>142396</th>\n      <td>0.0</td>\n      <td>0.593798</td>\n      <td>NaN</td>\n    </tr>\n    <tr>\n      <th>142397</th>\n      <td>0.0</td>\n      <td>0.547244</td>\n      <td>NaN</td>\n    </tr>\n    <tr>\n      <th>142398</th>\n      <td>0.0</td>\n      <td>0.648251</td>\n      <td>NaN</td>\n    </tr>\n  </tbody>\n</table>\n<p>142399 rows × 3 columns</p>\n</div>"
     },
     "metadata": {},
     "execution_count": 53
    }
   ],
   "source": [
    "X1"
   ]
  },
  {
   "cell_type": "code",
   "execution_count": 55,
   "metadata": {},
   "outputs": [
    {
     "output_type": "stream",
     "name": "stdout",
     "text": [
      "Threshold:  0.5605366110801697\n"
     ]
    },
    {
     "output_type": "execute_result",
     "data": {
      "text/plain": [
       "array([[85320, 56833],\n",
       "       [  119,   127]], dtype=int64)"
      ]
     },
     "metadata": {},
     "execution_count": 55
    }
   ],
   "source": [
    "print('Threshold: ',np.quantile(test_predict,0.6))\n",
    "threshold =np.quantile(test_predict,0.6)\n",
    "X1 = pd.DataFrame(np.zeros(142399,))\n",
    "X1['test_predict'] = test_predict\n",
    "X1.loc[X1['test_predict'].values > threshold,'outlier'] = 1\n",
    "X1.loc[X1['test_predict'].values <= threshold,'outlier'] = 0\n",
    "metrics.confusion_matrix(y_test, X1['outlier'].values)"
   ]
  },
  {
   "cell_type": "code",
   "execution_count": 35,
   "metadata": {},
   "outputs": [
    {
     "output_type": "display_data",
     "data": {
      "text/plain": "<Figure size 432x288 with 1 Axes>",
      "image/svg+xml": "<?xml version=\"1.0\" encoding=\"utf-8\" standalone=\"no\"?>\r\n<!DOCTYPE svg PUBLIC \"-//W3C//DTD SVG 1.1//EN\"\r\n  \"http://www.w3.org/Graphics/SVG/1.1/DTD/svg11.dtd\">\r\n<!-- Created with matplotlib (https://matplotlib.org/) -->\r\n<svg height=\"248.518125pt\" version=\"1.1\" viewBox=\"0 0 381.65 248.518125\" width=\"381.65pt\" xmlns=\"http://www.w3.org/2000/svg\" xmlns:xlink=\"http://www.w3.org/1999/xlink\">\r\n <metadata>\r\n  <rdf:RDF xmlns:cc=\"http://creativecommons.org/ns#\" xmlns:dc=\"http://purl.org/dc/elements/1.1/\" xmlns:rdf=\"http://www.w3.org/1999/02/22-rdf-syntax-ns#\">\r\n   <cc:Work>\r\n    <dc:type rdf:resource=\"http://purl.org/dc/dcmitype/StillImage\"/>\r\n    <dc:date>2021-01-05T23:22:12.068717</dc:date>\r\n    <dc:format>image/svg+xml</dc:format>\r\n    <dc:creator>\r\n     <cc:Agent>\r\n      <dc:title>Matplotlib v3.3.3, https://matplotlib.org/</dc:title>\r\n     </cc:Agent>\r\n    </dc:creator>\r\n   </cc:Work>\r\n  </rdf:RDF>\r\n </metadata>\r\n <defs>\r\n  <style type=\"text/css\">*{stroke-linecap:butt;stroke-linejoin:round;}</style>\r\n </defs>\r\n <g id=\"figure_1\">\r\n  <g id=\"patch_1\">\r\n   <path d=\"M -0 248.518125 \r\nL 381.65 248.518125 \r\nL 381.65 0 \r\nL -0 0 \r\nz\r\n\" style=\"fill:none;\"/>\r\n  </g>\r\n  <g id=\"axes_1\">\r\n   <g id=\"patch_2\">\r\n    <path d=\"M 39.65 224.64 \r\nL 374.45 224.64 \r\nL 374.45 7.2 \r\nL 39.65 7.2 \r\nz\r\n\" style=\"fill:#ffffff;\"/>\r\n   </g>\r\n   <g id=\"patch_3\">\r\n    <path clip-path=\"url(#pad73437cfc)\" d=\"M 54.868182 224.64 \r\nL 57.942562 224.64 \r\nL 57.942562 221.256707 \r\nL 54.868182 221.256707 \r\nz\r\n\" style=\"fill:#1f77b4;\"/>\r\n   </g>\r\n   <g id=\"patch_4\">\r\n    <path clip-path=\"url(#pad73437cfc)\" d=\"M 57.942562 224.64 \r\nL 61.016942 224.64 \r\nL 61.016942 222.971849 \r\nL 57.942562 222.971849 \r\nz\r\n\" style=\"fill:#1f77b4;\"/>\r\n   </g>\r\n   <g id=\"patch_5\">\r\n    <path clip-path=\"url(#pad73437cfc)\" d=\"M 61.016942 224.64 \r\nL 64.091322 224.64 \r\nL 64.091322 223.136314 \r\nL 61.016942 223.136314 \r\nz\r\n\" style=\"fill:#1f77b4;\"/>\r\n   </g>\r\n   <g id=\"patch_6\">\r\n    <path clip-path=\"url(#pad73437cfc)\" d=\"M 64.091322 224.64 \r\nL 67.165702 224.64 \r\nL 67.165702 222.736898 \r\nL 64.091322 222.736898 \r\nz\r\n\" style=\"fill:#1f77b4;\"/>\r\n   </g>\r\n   <g id=\"patch_7\">\r\n    <path clip-path=\"url(#pad73437cfc)\" d=\"M 67.165702 224.64 \r\nL 70.240083 224.64 \r\nL 70.240083 222.736898 \r\nL 67.165702 222.736898 \r\nz\r\n\" style=\"fill:#1f77b4;\"/>\r\n   </g>\r\n   <g id=\"patch_8\">\r\n    <path clip-path=\"url(#pad73437cfc)\" d=\"M 70.240083 224.64 \r\nL 73.314463 224.64 \r\nL 73.314463 223.042334 \r\nL 70.240083 223.042334 \r\nz\r\n\" style=\"fill:#1f77b4;\"/>\r\n   </g>\r\n   <g id=\"patch_9\">\r\n    <path clip-path=\"url(#pad73437cfc)\" d=\"M 73.314463 224.64 \r\nL 76.388843 224.64 \r\nL 76.388843 222.736898 \r\nL 73.314463 222.736898 \r\nz\r\n\" style=\"fill:#1f77b4;\"/>\r\n   </g>\r\n   <g id=\"patch_10\">\r\n    <path clip-path=\"url(#pad73437cfc)\" d=\"M 76.388843 224.64 \r\nL 79.463223 224.64 \r\nL 79.463223 223.065829 \r\nL 76.388843 223.065829 \r\nz\r\n\" style=\"fill:#1f77b4;\"/>\r\n   </g>\r\n   <g id=\"patch_11\">\r\n    <path clip-path=\"url(#pad73437cfc)\" d=\"M 79.463223 224.64 \r\nL 82.537603 224.64 \r\nL 82.537603 222.971849 \r\nL 79.463223 222.971849 \r\nz\r\n\" style=\"fill:#1f77b4;\"/>\r\n   </g>\r\n   <g id=\"patch_12\">\r\n    <path clip-path=\"url(#pad73437cfc)\" d=\"M 82.537603 224.64 \r\nL 85.611983 224.64 \r\nL 85.611983 222.431462 \r\nL 82.537603 222.431462 \r\nz\r\n\" style=\"fill:#1f77b4;\"/>\r\n   </g>\r\n   <g id=\"patch_13\">\r\n    <path clip-path=\"url(#pad73437cfc)\" d=\"M 85.611983 224.64 \r\nL 88.686364 224.64 \r\nL 88.686364 222.407967 \r\nL 85.611983 222.407967 \r\nz\r\n\" style=\"fill:#1f77b4;\"/>\r\n   </g>\r\n   <g id=\"patch_14\">\r\n    <path clip-path=\"url(#pad73437cfc)\" d=\"M 88.686364 224.64 \r\nL 91.760744 224.64 \r\nL 91.760744 222.360976 \r\nL 88.686364 222.360976 \r\nz\r\n\" style=\"fill:#1f77b4;\"/>\r\n   </g>\r\n   <g id=\"patch_15\">\r\n    <path clip-path=\"url(#pad73437cfc)\" d=\"M 91.760744 224.64 \r\nL 94.835124 224.64 \r\nL 94.835124 222.736898 \r\nL 91.760744 222.736898 \r\nz\r\n\" style=\"fill:#1f77b4;\"/>\r\n   </g>\r\n   <g id=\"patch_16\">\r\n    <path clip-path=\"url(#pad73437cfc)\" d=\"M 94.835124 224.64 \r\nL 97.909504 224.64 \r\nL 97.909504 222.173016 \r\nL 94.835124 222.173016 \r\nz\r\n\" style=\"fill:#1f77b4;\"/>\r\n   </g>\r\n   <g id=\"patch_17\">\r\n    <path clip-path=\"url(#pad73437cfc)\" d=\"M 97.909504 224.64 \r\nL 100.983884 224.64 \r\nL 100.983884 222.126025 \r\nL 97.909504 222.126025 \r\nz\r\n\" style=\"fill:#1f77b4;\"/>\r\n   </g>\r\n   <g id=\"patch_18\">\r\n    <path clip-path=\"url(#pad73437cfc)\" d=\"M 100.983884 224.64 \r\nL 104.058264 224.64 \r\nL 104.058264 221.515153 \r\nL 100.983884 221.515153 \r\nz\r\n\" style=\"fill:#1f77b4;\"/>\r\n   </g>\r\n   <g id=\"patch_19\">\r\n    <path clip-path=\"url(#pad73437cfc)\" d=\"M 104.058264 224.64 \r\nL 107.132645 224.64 \r\nL 107.132645 221.421173 \r\nL 104.058264 221.421173 \r\nz\r\n\" style=\"fill:#1f77b4;\"/>\r\n   </g>\r\n   <g id=\"patch_20\">\r\n    <path clip-path=\"url(#pad73437cfc)\" d=\"M 107.132645 224.64 \r\nL 110.207025 224.64 \r\nL 110.207025 221.421173 \r\nL 107.132645 221.421173 \r\nz\r\n\" style=\"fill:#1f77b4;\"/>\r\n   </g>\r\n   <g id=\"patch_21\">\r\n    <path clip-path=\"url(#pad73437cfc)\" d=\"M 110.207025 224.64 \r\nL 113.281405 224.64 \r\nL 113.281405 221.585638 \r\nL 110.207025 221.585638 \r\nz\r\n\" style=\"fill:#1f77b4;\"/>\r\n   </g>\r\n   <g id=\"patch_22\">\r\n    <path clip-path=\"url(#pad73437cfc)\" d=\"M 113.281405 224.64 \r\nL 116.355785 224.64 \r\nL 116.355785 220.951271 \r\nL 113.281405 220.951271 \r\nz\r\n\" style=\"fill:#1f77b4;\"/>\r\n   </g>\r\n   <g id=\"patch_23\">\r\n    <path clip-path=\"url(#pad73437cfc)\" d=\"M 116.355785 224.64 \r\nL 119.430165 224.64 \r\nL 119.430165 220.128943 \r\nL 116.355785 220.128943 \r\nz\r\n\" style=\"fill:#1f77b4;\"/>\r\n   </g>\r\n   <g id=\"patch_24\">\r\n    <path clip-path=\"url(#pad73437cfc)\" d=\"M 119.430165 224.64 \r\nL 122.504545 224.64 \r\nL 122.504545 220.199428 \r\nL 119.430165 220.199428 \r\nz\r\n\" style=\"fill:#1f77b4;\"/>\r\n   </g>\r\n   <g id=\"patch_25\">\r\n    <path clip-path=\"url(#pad73437cfc)\" d=\"M 122.504545 224.64 \r\nL 125.578926 224.64 \r\nL 125.578926 219.635546 \r\nL 122.504545 219.635546 \r\nz\r\n\" style=\"fill:#1f77b4;\"/>\r\n   </g>\r\n   <g id=\"patch_26\">\r\n    <path clip-path=\"url(#pad73437cfc)\" d=\"M 125.578926 224.64 \r\nL 128.653306 224.64 \r\nL 128.653306 219.400595 \r\nL 125.578926 219.400595 \r\nz\r\n\" style=\"fill:#1f77b4;\"/>\r\n   </g>\r\n   <g id=\"patch_27\">\r\n    <path clip-path=\"url(#pad73437cfc)\" d=\"M 128.653306 224.64 \r\nL 131.727686 224.64 \r\nL 131.727686 218.907198 \r\nL 128.653306 218.907198 \r\nz\r\n\" style=\"fill:#1f77b4;\"/>\r\n   </g>\r\n   <g id=\"patch_28\">\r\n    <path clip-path=\"url(#pad73437cfc)\" d=\"M 131.727686 224.64 \r\nL 134.802066 224.64 \r\nL 134.802066 218.155355 \r\nL 131.727686 218.155355 \r\nz\r\n\" style=\"fill:#1f77b4;\"/>\r\n   </g>\r\n   <g id=\"patch_29\">\r\n    <path clip-path=\"url(#pad73437cfc)\" d=\"M 134.802066 224.64 \r\nL 137.876446 224.64 \r\nL 137.876446 216.816135 \r\nL 134.802066 216.816135 \r\nz\r\n\" style=\"fill:#1f77b4;\"/>\r\n   </g>\r\n   <g id=\"patch_30\">\r\n    <path clip-path=\"url(#pad73437cfc)\" d=\"M 137.876446 224.64 \r\nL 140.950826 224.64 \r\nL 140.950826 216.863126 \r\nL 137.876446 216.863126 \r\nz\r\n\" style=\"fill:#1f77b4;\"/>\r\n   </g>\r\n   <g id=\"patch_31\">\r\n    <path clip-path=\"url(#pad73437cfc)\" d=\"M 140.950826 224.64 \r\nL 144.025207 224.64 \r\nL 144.025207 216.65167 \r\nL 140.950826 216.65167 \r\nz\r\n\" style=\"fill:#1f77b4;\"/>\r\n   </g>\r\n   <g id=\"patch_32\">\r\n    <path clip-path=\"url(#pad73437cfc)\" d=\"M 144.025207 224.64 \r\nL 147.099587 224.64 \r\nL 147.099587 216.346234 \r\nL 144.025207 216.346234 \r\nz\r\n\" style=\"fill:#1f77b4;\"/>\r\n   </g>\r\n   <g id=\"patch_33\">\r\n    <path clip-path=\"url(#pad73437cfc)\" d=\"M 147.099587 224.64 \r\nL 150.173967 224.64 \r\nL 150.173967 214.913033 \r\nL 147.099587 214.913033 \r\nz\r\n\" style=\"fill:#1f77b4;\"/>\r\n   </g>\r\n   <g id=\"patch_34\">\r\n    <path clip-path=\"url(#pad73437cfc)\" d=\"M 150.173967 224.64 \r\nL 153.248347 224.64 \r\nL 153.248347 213.785269 \r\nL 150.173967 213.785269 \r\nz\r\n\" style=\"fill:#1f77b4;\"/>\r\n   </g>\r\n   <g id=\"patch_35\">\r\n    <path clip-path=\"url(#pad73437cfc)\" d=\"M 153.248347 224.64 \r\nL 156.322727 224.64 \r\nL 156.322727 212.281583 \r\nL 153.248347 212.281583 \r\nz\r\n\" style=\"fill:#1f77b4;\"/>\r\n   </g>\r\n   <g id=\"patch_36\">\r\n    <path clip-path=\"url(#pad73437cfc)\" d=\"M 156.322727 224.64 \r\nL 159.397107 224.64 \r\nL 159.397107 211.48275 \r\nL 156.322727 211.48275 \r\nz\r\n\" style=\"fill:#1f77b4;\"/>\r\n   </g>\r\n   <g id=\"patch_37\">\r\n    <path clip-path=\"url(#pad73437cfc)\" d=\"M 159.397107 224.64 \r\nL 162.471488 224.64 \r\nL 162.471488 209.650133 \r\nL 159.397107 209.650133 \r\nz\r\n\" style=\"fill:#1f77b4;\"/>\r\n   </g>\r\n   <g id=\"patch_38\">\r\n    <path clip-path=\"url(#pad73437cfc)\" d=\"M 162.471488 224.64 \r\nL 165.545868 224.64 \r\nL 165.545868 208.686835 \r\nL 162.471488 208.686835 \r\nz\r\n\" style=\"fill:#1f77b4;\"/>\r\n   </g>\r\n   <g id=\"patch_39\">\r\n    <path clip-path=\"url(#pad73437cfc)\" d=\"M 165.545868 224.64 \r\nL 168.620248 224.64 \r\nL 168.620248 205.186066 \r\nL 165.545868 205.186066 \r\nz\r\n\" style=\"fill:#1f77b4;\"/>\r\n   </g>\r\n   <g id=\"patch_40\">\r\n    <path clip-path=\"url(#pad73437cfc)\" d=\"M 168.620248 224.64 \r\nL 171.694628 224.64 \r\nL 171.694628 204.316748 \r\nL 168.620248 204.316748 \r\nz\r\n\" style=\"fill:#1f77b4;\"/>\r\n   </g>\r\n   <g id=\"patch_41\">\r\n    <path clip-path=\"url(#pad73437cfc)\" d=\"M 171.694628 224.64 \r\nL 174.769008 224.64 \r\nL 174.769008 199.100838 \r\nL 171.694628 199.100838 \r\nz\r\n\" style=\"fill:#1f77b4;\"/>\r\n   </g>\r\n   <g id=\"patch_42\">\r\n    <path clip-path=\"url(#pad73437cfc)\" d=\"M 174.769008 224.64 \r\nL 177.843388 224.64 \r\nL 177.843388 197.550162 \r\nL 174.769008 197.550162 \r\nz\r\n\" style=\"fill:#1f77b4;\"/>\r\n   </g>\r\n   <g id=\"patch_43\">\r\n    <path clip-path=\"url(#pad73437cfc)\" d=\"M 177.843388 224.64 \r\nL 180.917769 224.64 \r\nL 180.917769 192.451728 \r\nL 177.843388 192.451728 \r\nz\r\n\" style=\"fill:#1f77b4;\"/>\r\n   </g>\r\n   <g id=\"patch_44\">\r\n    <path clip-path=\"url(#pad73437cfc)\" d=\"M 180.917769 224.64 \r\nL 183.992149 224.64 \r\nL 183.992149 189.420862 \r\nL 180.917769 189.420862 \r\nz\r\n\" style=\"fill:#1f77b4;\"/>\r\n   </g>\r\n   <g id=\"patch_45\">\r\n    <path clip-path=\"url(#pad73437cfc)\" d=\"M 183.992149 224.64 \r\nL 187.066529 224.64 \r\nL 187.066529 182.48981 \r\nL 183.992149 182.48981 \r\nz\r\n\" style=\"fill:#1f77b4;\"/>\r\n   </g>\r\n   <g id=\"patch_46\">\r\n    <path clip-path=\"url(#pad73437cfc)\" d=\"M 187.066529 224.64 \r\nL 190.140909 224.64 \r\nL 190.140909 175.511769 \r\nL 187.066529 175.511769 \r\nz\r\n\" style=\"fill:#1f77b4;\"/>\r\n   </g>\r\n   <g id=\"patch_47\">\r\n    <path clip-path=\"url(#pad73437cfc)\" d=\"M 190.140909 224.64 \r\nL 193.215289 224.64 \r\nL 193.215289 166.60713 \r\nL 190.140909 166.60713 \r\nz\r\n\" style=\"fill:#1f77b4;\"/>\r\n   </g>\r\n   <g id=\"patch_48\">\r\n    <path clip-path=\"url(#pad73437cfc)\" d=\"M 193.215289 224.64 \r\nL 196.289669 224.64 \r\nL 196.289669 160.286951 \r\nL 193.215289 160.286951 \r\nz\r\n\" style=\"fill:#1f77b4;\"/>\r\n   </g>\r\n   <g id=\"patch_49\">\r\n    <path clip-path=\"url(#pad73437cfc)\" d=\"M 196.289669 224.64 \r\nL 199.36405 224.64 \r\nL 199.36405 149.808142 \r\nL 196.289669 149.808142 \r\nz\r\n\" style=\"fill:#1f77b4;\"/>\r\n   </g>\r\n   <g id=\"patch_50\">\r\n    <path clip-path=\"url(#pad73437cfc)\" d=\"M 199.36405 224.64 \r\nL 202.43843 224.64 \r\nL 202.43843 136.298465 \r\nL 199.36405 136.298465 \r\nz\r\n\" style=\"fill:#1f77b4;\"/>\r\n   </g>\r\n   <g id=\"patch_51\">\r\n    <path clip-path=\"url(#pad73437cfc)\" d=\"M 202.43843 224.64 \r\nL 205.51281 224.64 \r\nL 205.51281 127.393827 \r\nL 202.43843 127.393827 \r\nz\r\n\" style=\"fill:#1f77b4;\"/>\r\n   </g>\r\n   <g id=\"patch_52\">\r\n    <path clip-path=\"url(#pad73437cfc)\" d=\"M 205.51281 224.64 \r\nL 208.58719 224.64 \r\nL 208.58719 110.853284 \r\nL 205.51281 110.853284 \r\nz\r\n\" style=\"fill:#1f77b4;\"/>\r\n   </g>\r\n   <g id=\"patch_53\">\r\n    <path clip-path=\"url(#pad73437cfc)\" d=\"M 208.58719 224.64 \r\nL 211.66157 224.64 \r\nL 211.66157 93.772354 \r\nL 208.58719 93.772354 \r\nz\r\n\" style=\"fill:#1f77b4;\"/>\r\n   </g>\r\n   <g id=\"patch_54\">\r\n    <path clip-path=\"url(#pad73437cfc)\" d=\"M 211.66157 224.64 \r\nL 214.73595 224.64 \r\nL 214.73595 17.554286 \r\nL 211.66157 17.554286 \r\nz\r\n\" style=\"fill:#1f77b4;\"/>\r\n   </g>\r\n   <g id=\"patch_55\">\r\n    <path clip-path=\"url(#pad73437cfc)\" d=\"M 214.73595 224.64 \r\nL 217.810331 224.64 \r\nL 217.810331 48.638288 \r\nL 214.73595 48.638288 \r\nz\r\n\" style=\"fill:#1f77b4;\"/>\r\n   </g>\r\n   <g id=\"patch_56\">\r\n    <path clip-path=\"url(#pad73437cfc)\" d=\"M 217.810331 224.64 \r\nL 220.884711 224.64 \r\nL 220.884711 41.918693 \r\nL 217.810331 41.918693 \r\nz\r\n\" style=\"fill:#1f77b4;\"/>\r\n   </g>\r\n   <g id=\"patch_57\">\r\n    <path clip-path=\"url(#pad73437cfc)\" d=\"M 220.884711 224.64 \r\nL 223.959091 224.64 \r\nL 223.959091 38.864331 \r\nL 220.884711 38.864331 \r\nz\r\n\" style=\"fill:#1f77b4;\"/>\r\n   </g>\r\n   <g id=\"patch_58\">\r\n    <path clip-path=\"url(#pad73437cfc)\" d=\"M 223.959091 224.64 \r\nL 227.033471 224.64 \r\nL 227.033471 44.127231 \r\nL 223.959091 44.127231 \r\nz\r\n\" style=\"fill:#1f77b4;\"/>\r\n   </g>\r\n   <g id=\"patch_59\">\r\n    <path clip-path=\"url(#pad73437cfc)\" d=\"M 227.033471 224.64 \r\nL 230.107851 224.64 \r\nL 230.107851 53.854198 \r\nL 227.033471 53.854198 \r\nz\r\n\" style=\"fill:#1f77b4;\"/>\r\n   </g>\r\n   <g id=\"patch_60\">\r\n    <path clip-path=\"url(#pad73437cfc)\" d=\"M 230.107851 224.64 \r\nL 233.182231 224.64 \r\nL 233.182231 71.59299 \r\nL 230.107851 71.59299 \r\nz\r\n\" style=\"fill:#1f77b4;\"/>\r\n   </g>\r\n   <g id=\"patch_61\">\r\n    <path clip-path=\"url(#pad73437cfc)\" d=\"M 233.182231 224.64 \r\nL 236.256612 224.64 \r\nL 236.256612 86.465382 \r\nL 233.182231 86.465382 \r\nz\r\n\" style=\"fill:#1f77b4;\"/>\r\n   </g>\r\n   <g id=\"patch_62\">\r\n    <path clip-path=\"url(#pad73437cfc)\" d=\"M 236.256612 224.64 \r\nL 239.330992 224.64 \r\nL 239.330992 109.490569 \r\nL 236.256612 109.490569 \r\nz\r\n\" style=\"fill:#1f77b4;\"/>\r\n   </g>\r\n   <g id=\"patch_63\">\r\n    <path clip-path=\"url(#pad73437cfc)\" d=\"M 239.330992 224.64 \r\nL 242.405372 224.64 \r\nL 242.405372 124.879852 \r\nL 239.330992 124.879852 \r\nz\r\n\" style=\"fill:#1f77b4;\"/>\r\n   </g>\r\n   <g id=\"patch_64\">\r\n    <path clip-path=\"url(#pad73437cfc)\" d=\"M 242.405372 224.64 \r\nL 245.479752 224.64 \r\nL 245.479752 139.916709 \r\nL 242.405372 139.916709 \r\nz\r\n\" style=\"fill:#1f77b4;\"/>\r\n   </g>\r\n   <g id=\"patch_65\">\r\n    <path clip-path=\"url(#pad73437cfc)\" d=\"M 245.479752 224.64 \r\nL 248.554132 224.64 \r\nL 248.554132 149.455715 \r\nL 245.479752 149.455715 \r\nz\r\n\" style=\"fill:#1f77b4;\"/>\r\n   </g>\r\n   <g id=\"patch_66\">\r\n    <path clip-path=\"url(#pad73437cfc)\" d=\"M 248.554132 224.64 \r\nL 251.628512 224.64 \r\nL 251.628512 160.380932 \r\nL 248.554132 160.380932 \r\nz\r\n\" style=\"fill:#1f77b4;\"/>\r\n   </g>\r\n   <g id=\"patch_67\">\r\n    <path clip-path=\"url(#pad73437cfc)\" d=\"M 251.628512 224.64 \r\nL 254.702893 224.64 \r\nL 254.702893 171.423623 \r\nL 251.628512 171.423623 \r\nz\r\n\" style=\"fill:#1f77b4;\"/>\r\n   </g>\r\n   <g id=\"patch_68\">\r\n    <path clip-path=\"url(#pad73437cfc)\" d=\"M 254.702893 224.64 \r\nL 257.777273 224.64 \r\nL 257.777273 177.790793 \r\nL 254.702893 177.790793 \r\nz\r\n\" style=\"fill:#1f77b4;\"/>\r\n   </g>\r\n   <g id=\"patch_69\">\r\n    <path clip-path=\"url(#pad73437cfc)\" d=\"M 257.777273 224.64 \r\nL 260.851653 224.64 \r\nL 260.851653 183.970001 \r\nL 257.777273 183.970001 \r\nz\r\n\" style=\"fill:#1f77b4;\"/>\r\n   </g>\r\n   <g id=\"patch_70\">\r\n    <path clip-path=\"url(#pad73437cfc)\" d=\"M 260.851653 224.64 \r\nL 263.926033 224.64 \r\nL 263.926033 190.313675 \r\nL 260.851653 190.313675 \r\nz\r\n\" style=\"fill:#1f77b4;\"/>\r\n   </g>\r\n   <g id=\"patch_71\">\r\n    <path clip-path=\"url(#pad73437cfc)\" d=\"M 263.926033 224.64 \r\nL 267.000413 224.64 \r\nL 267.000413 196.328418 \r\nL 263.926033 196.328418 \r\nz\r\n\" style=\"fill:#1f77b4;\"/>\r\n   </g>\r\n   <g id=\"patch_72\">\r\n    <path clip-path=\"url(#pad73437cfc)\" d=\"M 267.000413 224.64 \r\nL 270.074793 224.64 \r\nL 270.074793 198.536956 \r\nL 267.000413 198.536956 \r\nz\r\n\" style=\"fill:#1f77b4;\"/>\r\n   </g>\r\n   <g id=\"patch_73\">\r\n    <path clip-path=\"url(#pad73437cfc)\" d=\"M 270.074793 224.64 \r\nL 273.149174 224.64 \r\nL 273.149174 200.745495 \r\nL 270.074793 200.745495 \r\nz\r\n\" style=\"fill:#1f77b4;\"/>\r\n   </g>\r\n   <g id=\"patch_74\">\r\n    <path clip-path=\"url(#pad73437cfc)\" d=\"M 273.149174 224.64 \r\nL 276.223554 224.64 \r\nL 276.223554 205.726453 \r\nL 273.149174 205.726453 \r\nz\r\n\" style=\"fill:#1f77b4;\"/>\r\n   </g>\r\n   <g id=\"patch_75\">\r\n    <path clip-path=\"url(#pad73437cfc)\" d=\"M 276.223554 224.64 \r\nL 279.297934 224.64 \r\nL 279.297934 207.723536 \r\nL 276.223554 207.723536 \r\nz\r\n\" style=\"fill:#1f77b4;\"/>\r\n   </g>\r\n   <g id=\"patch_76\">\r\n    <path clip-path=\"url(#pad73437cfc)\" d=\"M 279.297934 224.64 \r\nL 282.372314 224.64 \r\nL 282.372314 210.073045 \r\nL 279.297934 210.073045 \r\nz\r\n\" style=\"fill:#1f77b4;\"/>\r\n   </g>\r\n   <g id=\"patch_77\">\r\n    <path clip-path=\"url(#pad73437cfc)\" d=\"M 282.372314 224.64 \r\nL 285.446694 224.64 \r\nL 285.446694 211.271294 \r\nL 282.372314 211.271294 \r\nz\r\n\" style=\"fill:#1f77b4;\"/>\r\n   </g>\r\n   <g id=\"patch_78\">\r\n    <path clip-path=\"url(#pad73437cfc)\" d=\"M 285.446694 224.64 \r\nL 288.521074 224.64 \r\nL 288.521074 213.127406 \r\nL 285.446694 213.127406 \r\nz\r\n\" style=\"fill:#1f77b4;\"/>\r\n   </g>\r\n   <g id=\"patch_79\">\r\n    <path clip-path=\"url(#pad73437cfc)\" d=\"M 288.521074 224.64 \r\nL 291.595455 224.64 \r\nL 291.595455 214.936528 \r\nL 288.521074 214.936528 \r\nz\r\n\" style=\"fill:#1f77b4;\"/>\r\n   </g>\r\n   <g id=\"patch_80\">\r\n    <path clip-path=\"url(#pad73437cfc)\" d=\"M 291.595455 224.64 \r\nL 294.669835 224.64 \r\nL 294.669835 215.054004 \r\nL 291.595455 215.054004 \r\nz\r\n\" style=\"fill:#1f77b4;\"/>\r\n   </g>\r\n   <g id=\"patch_81\">\r\n    <path clip-path=\"url(#pad73437cfc)\" d=\"M 294.669835 224.64 \r\nL 297.744215 224.64 \r\nL 297.744215 216.158273 \r\nL 294.669835 216.158273 \r\nz\r\n\" style=\"fill:#1f77b4;\"/>\r\n   </g>\r\n   <g id=\"patch_82\">\r\n    <path clip-path=\"url(#pad73437cfc)\" d=\"M 297.744215 224.64 \r\nL 300.818595 224.64 \r\nL 300.818595 216.675165 \r\nL 297.744215 216.675165 \r\nz\r\n\" style=\"fill:#1f77b4;\"/>\r\n   </g>\r\n   <g id=\"patch_83\">\r\n    <path clip-path=\"url(#pad73437cfc)\" d=\"M 300.818595 224.64 \r\nL 303.892975 224.64 \r\nL 303.892975 218.319821 \r\nL 300.818595 218.319821 \r\nz\r\n\" style=\"fill:#1f77b4;\"/>\r\n   </g>\r\n   <g id=\"patch_84\">\r\n    <path clip-path=\"url(#pad73437cfc)\" d=\"M 303.892975 224.64 \r\nL 306.967355 224.64 \r\nL 306.967355 218.531277 \r\nL 303.892975 218.531277 \r\nz\r\n\" style=\"fill:#1f77b4;\"/>\r\n   </g>\r\n   <g id=\"patch_85\">\r\n    <path clip-path=\"url(#pad73437cfc)\" d=\"M 306.967355 224.64 \r\nL 310.041736 224.64 \r\nL 310.041736 218.860208 \r\nL 306.967355 218.860208 \r\nz\r\n\" style=\"fill:#1f77b4;\"/>\r\n   </g>\r\n   <g id=\"patch_86\">\r\n    <path clip-path=\"url(#pad73437cfc)\" d=\"M 310.041736 224.64 \r\nL 313.116116 224.64 \r\nL 313.116116 218.413801 \r\nL 310.041736 218.413801 \r\nz\r\n\" style=\"fill:#1f77b4;\"/>\r\n   </g>\r\n   <g id=\"patch_87\">\r\n    <path clip-path=\"url(#pad73437cfc)\" d=\"M 313.116116 224.64 \r\nL 316.190496 224.64 \r\nL 316.190496 219.33011 \r\nL 313.116116 219.33011 \r\nz\r\n\" style=\"fill:#1f77b4;\"/>\r\n   </g>\r\n   <g id=\"patch_88\">\r\n    <path clip-path=\"url(#pad73437cfc)\" d=\"M 316.190496 224.64 \r\nL 319.264876 224.64 \r\nL 319.264876 220.504864 \r\nL 316.190496 220.504864 \r\nz\r\n\" style=\"fill:#1f77b4;\"/>\r\n   </g>\r\n   <g id=\"patch_89\">\r\n    <path clip-path=\"url(#pad73437cfc)\" d=\"M 319.264876 224.64 \r\nL 322.339256 224.64 \r\nL 322.339256 220.199428 \r\nL 319.264876 220.199428 \r\nz\r\n\" style=\"fill:#1f77b4;\"/>\r\n   </g>\r\n   <g id=\"patch_90\">\r\n    <path clip-path=\"url(#pad73437cfc)\" d=\"M 322.339256 224.64 \r\nL 325.413636 224.64 \r\nL 325.413636 221.092242 \r\nL 322.339256 221.092242 \r\nz\r\n\" style=\"fill:#1f77b4;\"/>\r\n   </g>\r\n   <g id=\"patch_91\">\r\n    <path clip-path=\"url(#pad73437cfc)\" d=\"M 325.413636 224.64 \r\nL 328.488017 224.64 \r\nL 328.488017 220.904281 \r\nL 325.413636 220.904281 \r\nz\r\n\" style=\"fill:#1f77b4;\"/>\r\n   </g>\r\n   <g id=\"patch_92\">\r\n    <path clip-path=\"url(#pad73437cfc)\" d=\"M 328.488017 224.64 \r\nL 331.562397 224.64 \r\nL 331.562397 221.280202 \r\nL 328.488017 221.280202 \r\nz\r\n\" style=\"fill:#1f77b4;\"/>\r\n   </g>\r\n   <g id=\"patch_93\">\r\n    <path clip-path=\"url(#pad73437cfc)\" d=\"M 331.562397 224.64 \r\nL 334.636777 224.64 \r\nL 334.636777 221.139232 \r\nL 331.562397 221.139232 \r\nz\r\n\" style=\"fill:#1f77b4;\"/>\r\n   </g>\r\n   <g id=\"patch_94\">\r\n    <path clip-path=\"url(#pad73437cfc)\" d=\"M 334.636777 224.64 \r\nL 337.711157 224.64 \r\nL 337.711157 221.91457 \r\nL 334.636777 221.91457 \r\nz\r\n\" style=\"fill:#1f77b4;\"/>\r\n   </g>\r\n   <g id=\"patch_95\">\r\n    <path clip-path=\"url(#pad73437cfc)\" d=\"M 337.711157 224.64 \r\nL 340.785537 224.64 \r\nL 340.785537 222.10253 \r\nL 337.711157 222.10253 \r\nz\r\n\" style=\"fill:#1f77b4;\"/>\r\n   </g>\r\n   <g id=\"patch_96\">\r\n    <path clip-path=\"url(#pad73437cfc)\" d=\"M 340.785537 224.64 \r\nL 343.859917 224.64 \r\nL 343.859917 221.726609 \r\nL 340.785537 221.726609 \r\nz\r\n\" style=\"fill:#1f77b4;\"/>\r\n   </g>\r\n   <g id=\"patch_97\">\r\n    <path clip-path=\"url(#pad73437cfc)\" d=\"M 343.859917 224.64 \r\nL 346.934298 224.64 \r\nL 346.934298 221.985055 \r\nL 343.859917 221.985055 \r\nz\r\n\" style=\"fill:#1f77b4;\"/>\r\n   </g>\r\n   <g id=\"patch_98\">\r\n    <path clip-path=\"url(#pad73437cfc)\" d=\"M 346.934298 224.64 \r\nL 350.008678 224.64 \r\nL 350.008678 222.220006 \r\nL 346.934298 222.220006 \r\nz\r\n\" style=\"fill:#1f77b4;\"/>\r\n   </g>\r\n   <g id=\"patch_99\">\r\n    <path clip-path=\"url(#pad73437cfc)\" d=\"M 350.008678 224.64 \r\nL 353.083058 224.64 \r\nL 353.083058 221.750104 \r\nL 350.008678 221.750104 \r\nz\r\n\" style=\"fill:#1f77b4;\"/>\r\n   </g>\r\n   <g id=\"patch_100\">\r\n    <path clip-path=\"url(#pad73437cfc)\" d=\"M 353.083058 224.64 \r\nL 356.157438 224.64 \r\nL 356.157438 221.750104 \r\nL 353.083058 221.750104 \r\nz\r\n\" style=\"fill:#1f77b4;\"/>\r\n   </g>\r\n   <g id=\"patch_101\">\r\n    <path clip-path=\"url(#pad73437cfc)\" d=\"M 356.157438 224.64 \r\nL 359.231818 224.64 \r\nL 359.231818 221.327192 \r\nL 356.157438 221.327192 \r\nz\r\n\" style=\"fill:#1f77b4;\"/>\r\n   </g>\r\n   <g id=\"matplotlib.axis_1\">\r\n    <g id=\"xtick_1\">\r\n     <g id=\"line2d_1\">\r\n      <defs>\r\n       <path d=\"M 0 0 \r\nL 0 3.5 \r\n\" id=\"m4feb5d0ad7\" style=\"stroke:#000000;stroke-width:0.8;\"/>\r\n      </defs>\r\n      <g>\r\n       <use style=\"stroke:#000000;stroke-width:0.8;\" x=\"54.868182\" xlink:href=\"#m4feb5d0ad7\" y=\"224.64\"/>\r\n      </g>\r\n     </g>\r\n     <g id=\"text_1\">\r\n      <!-- 0.0 -->\r\n      <g transform=\"translate(46.916619 239.238437)scale(0.1 -0.1)\">\r\n       <defs>\r\n        <path d=\"M 31.78125 66.40625 \r\nQ 24.171875 66.40625 20.328125 58.90625 \r\nQ 16.5 51.421875 16.5 36.375 \r\nQ 16.5 21.390625 20.328125 13.890625 \r\nQ 24.171875 6.390625 31.78125 6.390625 \r\nQ 39.453125 6.390625 43.28125 13.890625 \r\nQ 47.125 21.390625 47.125 36.375 \r\nQ 47.125 51.421875 43.28125 58.90625 \r\nQ 39.453125 66.40625 31.78125 66.40625 \r\nz\r\nM 31.78125 74.21875 \r\nQ 44.046875 74.21875 50.515625 64.515625 \r\nQ 56.984375 54.828125 56.984375 36.375 \r\nQ 56.984375 17.96875 50.515625 8.265625 \r\nQ 44.046875 -1.421875 31.78125 -1.421875 \r\nQ 19.53125 -1.421875 13.0625 8.265625 \r\nQ 6.59375 17.96875 6.59375 36.375 \r\nQ 6.59375 54.828125 13.0625 64.515625 \r\nQ 19.53125 74.21875 31.78125 74.21875 \r\nz\r\n\" id=\"DejaVuSans-48\"/>\r\n        <path d=\"M 10.6875 12.40625 \r\nL 21 12.40625 \r\nL 21 0 \r\nL 10.6875 0 \r\nz\r\n\" id=\"DejaVuSans-46\"/>\r\n       </defs>\r\n       <use xlink:href=\"#DejaVuSans-48\"/>\r\n       <use x=\"63.623047\" xlink:href=\"#DejaVuSans-46\"/>\r\n       <use x=\"95.410156\" xlink:href=\"#DejaVuSans-48\"/>\r\n      </g>\r\n     </g>\r\n    </g>\r\n    <g id=\"xtick_2\">\r\n     <g id=\"line2d_2\">\r\n      <g>\r\n       <use style=\"stroke:#000000;stroke-width:0.8;\" x=\"116.355785\" xlink:href=\"#m4feb5d0ad7\" y=\"224.64\"/>\r\n      </g>\r\n     </g>\r\n     <g id=\"text_2\">\r\n      <!-- 0.2 -->\r\n      <g transform=\"translate(108.404223 239.238437)scale(0.1 -0.1)\">\r\n       <defs>\r\n        <path d=\"M 19.1875 8.296875 \r\nL 53.609375 8.296875 \r\nL 53.609375 0 \r\nL 7.328125 0 \r\nL 7.328125 8.296875 \r\nQ 12.9375 14.109375 22.625 23.890625 \r\nQ 32.328125 33.6875 34.8125 36.53125 \r\nQ 39.546875 41.84375 41.421875 45.53125 \r\nQ 43.3125 49.21875 43.3125 52.78125 \r\nQ 43.3125 58.59375 39.234375 62.25 \r\nQ 35.15625 65.921875 28.609375 65.921875 \r\nQ 23.96875 65.921875 18.8125 64.3125 \r\nQ 13.671875 62.703125 7.8125 59.421875 \r\nL 7.8125 69.390625 \r\nQ 13.765625 71.78125 18.9375 73 \r\nQ 24.125 74.21875 28.421875 74.21875 \r\nQ 39.75 74.21875 46.484375 68.546875 \r\nQ 53.21875 62.890625 53.21875 53.421875 \r\nQ 53.21875 48.921875 51.53125 44.890625 \r\nQ 49.859375 40.875 45.40625 35.40625 \r\nQ 44.1875 33.984375 37.640625 27.21875 \r\nQ 31.109375 20.453125 19.1875 8.296875 \r\nz\r\n\" id=\"DejaVuSans-50\"/>\r\n       </defs>\r\n       <use xlink:href=\"#DejaVuSans-48\"/>\r\n       <use x=\"63.623047\" xlink:href=\"#DejaVuSans-46\"/>\r\n       <use x=\"95.410156\" xlink:href=\"#DejaVuSans-50\"/>\r\n      </g>\r\n     </g>\r\n    </g>\r\n    <g id=\"xtick_3\">\r\n     <g id=\"line2d_3\">\r\n      <g>\r\n       <use style=\"stroke:#000000;stroke-width:0.8;\" x=\"177.843388\" xlink:href=\"#m4feb5d0ad7\" y=\"224.64\"/>\r\n      </g>\r\n     </g>\r\n     <g id=\"text_3\">\r\n      <!-- 0.4 -->\r\n      <g transform=\"translate(169.891826 239.238437)scale(0.1 -0.1)\">\r\n       <defs>\r\n        <path d=\"M 37.796875 64.3125 \r\nL 12.890625 25.390625 \r\nL 37.796875 25.390625 \r\nz\r\nM 35.203125 72.90625 \r\nL 47.609375 72.90625 \r\nL 47.609375 25.390625 \r\nL 58.015625 25.390625 \r\nL 58.015625 17.1875 \r\nL 47.609375 17.1875 \r\nL 47.609375 0 \r\nL 37.796875 0 \r\nL 37.796875 17.1875 \r\nL 4.890625 17.1875 \r\nL 4.890625 26.703125 \r\nz\r\n\" id=\"DejaVuSans-52\"/>\r\n       </defs>\r\n       <use xlink:href=\"#DejaVuSans-48\"/>\r\n       <use x=\"63.623047\" xlink:href=\"#DejaVuSans-46\"/>\r\n       <use x=\"95.410156\" xlink:href=\"#DejaVuSans-52\"/>\r\n      </g>\r\n     </g>\r\n    </g>\r\n    <g id=\"xtick_4\">\r\n     <g id=\"line2d_4\">\r\n      <g>\r\n       <use style=\"stroke:#000000;stroke-width:0.8;\" x=\"239.330992\" xlink:href=\"#m4feb5d0ad7\" y=\"224.64\"/>\r\n      </g>\r\n     </g>\r\n     <g id=\"text_4\">\r\n      <!-- 0.6 -->\r\n      <g transform=\"translate(231.379429 239.238437)scale(0.1 -0.1)\">\r\n       <defs>\r\n        <path d=\"M 33.015625 40.375 \r\nQ 26.375 40.375 22.484375 35.828125 \r\nQ 18.609375 31.296875 18.609375 23.390625 \r\nQ 18.609375 15.53125 22.484375 10.953125 \r\nQ 26.375 6.390625 33.015625 6.390625 \r\nQ 39.65625 6.390625 43.53125 10.953125 \r\nQ 47.40625 15.53125 47.40625 23.390625 \r\nQ 47.40625 31.296875 43.53125 35.828125 \r\nQ 39.65625 40.375 33.015625 40.375 \r\nz\r\nM 52.59375 71.296875 \r\nL 52.59375 62.3125 \r\nQ 48.875 64.0625 45.09375 64.984375 \r\nQ 41.3125 65.921875 37.59375 65.921875 \r\nQ 27.828125 65.921875 22.671875 59.328125 \r\nQ 17.53125 52.734375 16.796875 39.40625 \r\nQ 19.671875 43.65625 24.015625 45.921875 \r\nQ 28.375 48.1875 33.59375 48.1875 \r\nQ 44.578125 48.1875 50.953125 41.515625 \r\nQ 57.328125 34.859375 57.328125 23.390625 \r\nQ 57.328125 12.15625 50.6875 5.359375 \r\nQ 44.046875 -1.421875 33.015625 -1.421875 \r\nQ 20.359375 -1.421875 13.671875 8.265625 \r\nQ 6.984375 17.96875 6.984375 36.375 \r\nQ 6.984375 53.65625 15.1875 63.9375 \r\nQ 23.390625 74.21875 37.203125 74.21875 \r\nQ 40.921875 74.21875 44.703125 73.484375 \r\nQ 48.484375 72.75 52.59375 71.296875 \r\nz\r\n\" id=\"DejaVuSans-54\"/>\r\n       </defs>\r\n       <use xlink:href=\"#DejaVuSans-48\"/>\r\n       <use x=\"63.623047\" xlink:href=\"#DejaVuSans-46\"/>\r\n       <use x=\"95.410156\" xlink:href=\"#DejaVuSans-54\"/>\r\n      </g>\r\n     </g>\r\n    </g>\r\n    <g id=\"xtick_5\">\r\n     <g id=\"line2d_5\">\r\n      <g>\r\n       <use style=\"stroke:#000000;stroke-width:0.8;\" x=\"300.818595\" xlink:href=\"#m4feb5d0ad7\" y=\"224.64\"/>\r\n      </g>\r\n     </g>\r\n     <g id=\"text_5\">\r\n      <!-- 0.8 -->\r\n      <g transform=\"translate(292.867033 239.238437)scale(0.1 -0.1)\">\r\n       <defs>\r\n        <path d=\"M 31.78125 34.625 \r\nQ 24.75 34.625 20.71875 30.859375 \r\nQ 16.703125 27.09375 16.703125 20.515625 \r\nQ 16.703125 13.921875 20.71875 10.15625 \r\nQ 24.75 6.390625 31.78125 6.390625 \r\nQ 38.8125 6.390625 42.859375 10.171875 \r\nQ 46.921875 13.96875 46.921875 20.515625 \r\nQ 46.921875 27.09375 42.890625 30.859375 \r\nQ 38.875 34.625 31.78125 34.625 \r\nz\r\nM 21.921875 38.8125 \r\nQ 15.578125 40.375 12.03125 44.71875 \r\nQ 8.5 49.078125 8.5 55.328125 \r\nQ 8.5 64.0625 14.71875 69.140625 \r\nQ 20.953125 74.21875 31.78125 74.21875 \r\nQ 42.671875 74.21875 48.875 69.140625 \r\nQ 55.078125 64.0625 55.078125 55.328125 \r\nQ 55.078125 49.078125 51.53125 44.71875 \r\nQ 48 40.375 41.703125 38.8125 \r\nQ 48.828125 37.15625 52.796875 32.3125 \r\nQ 56.78125 27.484375 56.78125 20.515625 \r\nQ 56.78125 9.90625 50.3125 4.234375 \r\nQ 43.84375 -1.421875 31.78125 -1.421875 \r\nQ 19.734375 -1.421875 13.25 4.234375 \r\nQ 6.78125 9.90625 6.78125 20.515625 \r\nQ 6.78125 27.484375 10.78125 32.3125 \r\nQ 14.796875 37.15625 21.921875 38.8125 \r\nz\r\nM 18.3125 54.390625 \r\nQ 18.3125 48.734375 21.84375 45.5625 \r\nQ 25.390625 42.390625 31.78125 42.390625 \r\nQ 38.140625 42.390625 41.71875 45.5625 \r\nQ 45.3125 48.734375 45.3125 54.390625 \r\nQ 45.3125 60.0625 41.71875 63.234375 \r\nQ 38.140625 66.40625 31.78125 66.40625 \r\nQ 25.390625 66.40625 21.84375 63.234375 \r\nQ 18.3125 60.0625 18.3125 54.390625 \r\nz\r\n\" id=\"DejaVuSans-56\"/>\r\n       </defs>\r\n       <use xlink:href=\"#DejaVuSans-48\"/>\r\n       <use x=\"63.623047\" xlink:href=\"#DejaVuSans-46\"/>\r\n       <use x=\"95.410156\" xlink:href=\"#DejaVuSans-56\"/>\r\n      </g>\r\n     </g>\r\n    </g>\r\n    <g id=\"xtick_6\">\r\n     <g id=\"line2d_6\">\r\n      <g>\r\n       <use style=\"stroke:#000000;stroke-width:0.8;\" x=\"362.306198\" xlink:href=\"#m4feb5d0ad7\" y=\"224.64\"/>\r\n      </g>\r\n     </g>\r\n     <g id=\"text_6\">\r\n      <!-- 1.0 -->\r\n      <g transform=\"translate(354.354636 239.238437)scale(0.1 -0.1)\">\r\n       <defs>\r\n        <path d=\"M 12.40625 8.296875 \r\nL 28.515625 8.296875 \r\nL 28.515625 63.921875 \r\nL 10.984375 60.40625 \r\nL 10.984375 69.390625 \r\nL 28.421875 72.90625 \r\nL 38.28125 72.90625 \r\nL 38.28125 8.296875 \r\nL 54.390625 8.296875 \r\nL 54.390625 0 \r\nL 12.40625 0 \r\nz\r\n\" id=\"DejaVuSans-49\"/>\r\n       </defs>\r\n       <use xlink:href=\"#DejaVuSans-49\"/>\r\n       <use x=\"63.623047\" xlink:href=\"#DejaVuSans-46\"/>\r\n       <use x=\"95.410156\" xlink:href=\"#DejaVuSans-48\"/>\r\n      </g>\r\n     </g>\r\n    </g>\r\n   </g>\r\n   <g id=\"matplotlib.axis_2\">\r\n    <g id=\"ytick_1\">\r\n     <g id=\"line2d_7\">\r\n      <defs>\r\n       <path d=\"M 0 0 \r\nL -3.5 0 \r\n\" id=\"m13310ceb6a\" style=\"stroke:#000000;stroke-width:0.8;\"/>\r\n      </defs>\r\n      <g>\r\n       <use style=\"stroke:#000000;stroke-width:0.8;\" x=\"39.65\" xlink:href=\"#m13310ceb6a\" y=\"224.64\"/>\r\n      </g>\r\n     </g>\r\n     <g id=\"text_7\">\r\n      <!-- 0 -->\r\n      <g transform=\"translate(26.2875 228.439219)scale(0.1 -0.1)\">\r\n       <use xlink:href=\"#DejaVuSans-48\"/>\r\n      </g>\r\n     </g>\r\n    </g>\r\n    <g id=\"ytick_2\">\r\n     <g id=\"line2d_8\">\r\n      <g>\r\n       <use style=\"stroke:#000000;stroke-width:0.8;\" x=\"39.65\" xlink:href=\"#m13310ceb6a\" y=\"177.649822\"/>\r\n      </g>\r\n     </g>\r\n     <g id=\"text_8\">\r\n      <!-- 2000 -->\r\n      <g transform=\"translate(7.2 181.449041)scale(0.1 -0.1)\">\r\n       <use xlink:href=\"#DejaVuSans-50\"/>\r\n       <use x=\"63.623047\" xlink:href=\"#DejaVuSans-48\"/>\r\n       <use x=\"127.246094\" xlink:href=\"#DejaVuSans-48\"/>\r\n       <use x=\"190.869141\" xlink:href=\"#DejaVuSans-48\"/>\r\n      </g>\r\n     </g>\r\n    </g>\r\n    <g id=\"ytick_3\">\r\n     <g id=\"line2d_9\">\r\n      <g>\r\n       <use style=\"stroke:#000000;stroke-width:0.8;\" x=\"39.65\" xlink:href=\"#m13310ceb6a\" y=\"130.659644\"/>\r\n      </g>\r\n     </g>\r\n     <g id=\"text_9\">\r\n      <!-- 4000 -->\r\n      <g transform=\"translate(7.2 134.458863)scale(0.1 -0.1)\">\r\n       <use xlink:href=\"#DejaVuSans-52\"/>\r\n       <use x=\"63.623047\" xlink:href=\"#DejaVuSans-48\"/>\r\n       <use x=\"127.246094\" xlink:href=\"#DejaVuSans-48\"/>\r\n       <use x=\"190.869141\" xlink:href=\"#DejaVuSans-48\"/>\r\n      </g>\r\n     </g>\r\n    </g>\r\n    <g id=\"ytick_4\">\r\n     <g id=\"line2d_10\">\r\n      <g>\r\n       <use style=\"stroke:#000000;stroke-width:0.8;\" x=\"39.65\" xlink:href=\"#m13310ceb6a\" y=\"83.669466\"/>\r\n      </g>\r\n     </g>\r\n     <g id=\"text_10\">\r\n      <!-- 6000 -->\r\n      <g transform=\"translate(7.2 87.468685)scale(0.1 -0.1)\">\r\n       <use xlink:href=\"#DejaVuSans-54\"/>\r\n       <use x=\"63.623047\" xlink:href=\"#DejaVuSans-48\"/>\r\n       <use x=\"127.246094\" xlink:href=\"#DejaVuSans-48\"/>\r\n       <use x=\"190.869141\" xlink:href=\"#DejaVuSans-48\"/>\r\n      </g>\r\n     </g>\r\n    </g>\r\n    <g id=\"ytick_5\">\r\n     <g id=\"line2d_11\">\r\n      <g>\r\n       <use style=\"stroke:#000000;stroke-width:0.8;\" x=\"39.65\" xlink:href=\"#m13310ceb6a\" y=\"36.679288\"/>\r\n      </g>\r\n     </g>\r\n     <g id=\"text_11\">\r\n      <!-- 8000 -->\r\n      <g transform=\"translate(7.2 40.478507)scale(0.1 -0.1)\">\r\n       <use xlink:href=\"#DejaVuSans-56\"/>\r\n       <use x=\"63.623047\" xlink:href=\"#DejaVuSans-48\"/>\r\n       <use x=\"127.246094\" xlink:href=\"#DejaVuSans-48\"/>\r\n       <use x=\"190.869141\" xlink:href=\"#DejaVuSans-48\"/>\r\n      </g>\r\n     </g>\r\n    </g>\r\n   </g>\r\n   <g id=\"patch_102\">\r\n    <path d=\"M 39.65 224.64 \r\nL 39.65 7.2 \r\n\" style=\"fill:none;stroke:#000000;stroke-linecap:square;stroke-linejoin:miter;stroke-width:0.8;\"/>\r\n   </g>\r\n   <g id=\"patch_103\">\r\n    <path d=\"M 374.45 224.64 \r\nL 374.45 7.2 \r\n\" style=\"fill:none;stroke:#000000;stroke-linecap:square;stroke-linejoin:miter;stroke-width:0.8;\"/>\r\n   </g>\r\n   <g id=\"patch_104\">\r\n    <path d=\"M 39.65 224.64 \r\nL 374.45 224.64 \r\n\" style=\"fill:none;stroke:#000000;stroke-linecap:square;stroke-linejoin:miter;stroke-width:0.8;\"/>\r\n   </g>\r\n   <g id=\"patch_105\">\r\n    <path d=\"M 39.65 7.2 \r\nL 374.45 7.2 \r\n\" style=\"fill:none;stroke:#000000;stroke-linecap:square;stroke-linejoin:miter;stroke-width:0.8;\"/>\r\n   </g>\r\n  </g>\r\n </g>\r\n <defs>\r\n  <clipPath id=\"pad73437cfc\">\r\n   <rect height=\"217.44\" width=\"334.8\" x=\"39.65\" y=\"7.2\"/>\r\n  </clipPath>\r\n </defs>\r\n</svg>\r\n",
      "image/png": "[encoded data removed]"
     },
     "metadata": {
      "needs_background": "light"
     }
    }
   ],
   "source": [
    "import matplotlib.pyplot as plt\n",
    "bins = np.arange(0, 1, 0.01)\n",
    "plt.hist(test_predict,bins=bins)\n",
    "plt.show()"
   ]
  },
  {
   "cell_type": "code",
   "execution_count": null,
   "metadata": {},
   "outputs": [],
   "source": []
  }
 ],
 "metadata": {
  "kernelspec": {
   "name": "python3",
   "display_name": "Python 3.7.9 64-bit ('anomaly': conda)",
   "metadata": {
    "interpreter": {
     "hash": "572e18c49862df9b27a27d096a2eae7d365fb54703e73408006cde28dcafb57e"
    }
   }
  },
  "language_info": {
   "codemirror_mode": {
    "name": "ipython",
    "version": 3
   },
   "file_extension": ".py",
   "mimetype": "text/x-python",
   "name": "python",
   "nbconvert_exporter": "python",
   "pygments_lexer": "ipython3",
   "version": "3.7.9-final"
  }
 },
 "nbformat": 4,
 "nbformat_minor": 4
}